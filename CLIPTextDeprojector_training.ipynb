{
  "nbformat": 4,
  "nbformat_minor": 0,
  "metadata": {
    "colab": {
      "provenance": []
    },
    "kernelspec": {
      "name": "python3",
      "display_name": "Python 3"
    },
    "language_info": {
      "name": "python"
    },
    "accelerator": "GPU",
    "gpuClass": "standard",
    "widgets": {
      "application/vnd.jupyter.widget-state+json": {
        "fa9f132134f443fa8ce13c931f414980": {
          "model_module": "@jupyter-widgets/controls",
          "model_name": "HBoxModel",
          "model_module_version": "1.5.0",
          "state": {
            "_dom_classes": [],
            "_model_module": "@jupyter-widgets/controls",
            "_model_module_version": "1.5.0",
            "_model_name": "HBoxModel",
            "_view_count": null,
            "_view_module": "@jupyter-widgets/controls",
            "_view_module_version": "1.5.0",
            "_view_name": "HBoxView",
            "box_style": "",
            "children": [
              "IPY_MODEL_d0b68cd015834c9f93a16dd4b1d6981f",
              "IPY_MODEL_35f0bb5422c74cf58a94baa56c86444f",
              "IPY_MODEL_608912cfc15f494aad981d6e7952e7e5"
            ],
            "layout": "IPY_MODEL_7a5892e993f94789844b3647dd1c1cf2"
          }
        },
        "d0b68cd015834c9f93a16dd4b1d6981f": {
          "model_module": "@jupyter-widgets/controls",
          "model_name": "HTMLModel",
          "model_module_version": "1.5.0",
          "state": {
            "_dom_classes": [],
            "_model_module": "@jupyter-widgets/controls",
            "_model_module_version": "1.5.0",
            "_model_name": "HTMLModel",
            "_view_count": null,
            "_view_module": "@jupyter-widgets/controls",
            "_view_module_version": "1.5.0",
            "_view_name": "HTMLView",
            "description": "",
            "description_tooltip": null,
            "layout": "IPY_MODEL_0523ebbeac9a448ea268bd0539d4623e",
            "placeholder": "​",
            "style": "IPY_MODEL_eec9161182864f0fb48d624ab968cd72",
            "value": "Downloading (…)olve/main/vocab.json: 100%"
          }
        },
        "35f0bb5422c74cf58a94baa56c86444f": {
          "model_module": "@jupyter-widgets/controls",
          "model_name": "FloatProgressModel",
          "model_module_version": "1.5.0",
          "state": {
            "_dom_classes": [],
            "_model_module": "@jupyter-widgets/controls",
            "_model_module_version": "1.5.0",
            "_model_name": "FloatProgressModel",
            "_view_count": null,
            "_view_module": "@jupyter-widgets/controls",
            "_view_module_version": "1.5.0",
            "_view_name": "ProgressView",
            "bar_style": "success",
            "description": "",
            "description_tooltip": null,
            "layout": "IPY_MODEL_82fb35a878874e0b83a4bdf9f4985aa1",
            "max": 961143,
            "min": 0,
            "orientation": "horizontal",
            "style": "IPY_MODEL_36904a70a92648e393b01fcbec886ca2",
            "value": 961143
          }
        },
        "608912cfc15f494aad981d6e7952e7e5": {
          "model_module": "@jupyter-widgets/controls",
          "model_name": "HTMLModel",
          "model_module_version": "1.5.0",
          "state": {
            "_dom_classes": [],
            "_model_module": "@jupyter-widgets/controls",
            "_model_module_version": "1.5.0",
            "_model_name": "HTMLModel",
            "_view_count": null,
            "_view_module": "@jupyter-widgets/controls",
            "_view_module_version": "1.5.0",
            "_view_name": "HTMLView",
            "description": "",
            "description_tooltip": null,
            "layout": "IPY_MODEL_479ce4179517438d8925969a70413d6f",
            "placeholder": "​",
            "style": "IPY_MODEL_8142306eb8734c189b4001a76a202b5e",
            "value": " 961k/961k [00:00&lt;00:00, 11.3MB/s]"
          }
        },
        "7a5892e993f94789844b3647dd1c1cf2": {
          "model_module": "@jupyter-widgets/base",
          "model_name": "LayoutModel",
          "model_module_version": "1.2.0",
          "state": {
            "_model_module": "@jupyter-widgets/base",
            "_model_module_version": "1.2.0",
            "_model_name": "LayoutModel",
            "_view_count": null,
            "_view_module": "@jupyter-widgets/base",
            "_view_module_version": "1.2.0",
            "_view_name": "LayoutView",
            "align_content": null,
            "align_items": null,
            "align_self": null,
            "border": null,
            "bottom": null,
            "display": null,
            "flex": null,
            "flex_flow": null,
            "grid_area": null,
            "grid_auto_columns": null,
            "grid_auto_flow": null,
            "grid_auto_rows": null,
            "grid_column": null,
            "grid_gap": null,
            "grid_row": null,
            "grid_template_areas": null,
            "grid_template_columns": null,
            "grid_template_rows": null,
            "height": null,
            "justify_content": null,
            "justify_items": null,
            "left": null,
            "margin": null,
            "max_height": null,
            "max_width": null,
            "min_height": null,
            "min_width": null,
            "object_fit": null,
            "object_position": null,
            "order": null,
            "overflow": null,
            "overflow_x": null,
            "overflow_y": null,
            "padding": null,
            "right": null,
            "top": null,
            "visibility": null,
            "width": null
          }
        },
        "0523ebbeac9a448ea268bd0539d4623e": {
          "model_module": "@jupyter-widgets/base",
          "model_name": "LayoutModel",
          "model_module_version": "1.2.0",
          "state": {
            "_model_module": "@jupyter-widgets/base",
            "_model_module_version": "1.2.0",
            "_model_name": "LayoutModel",
            "_view_count": null,
            "_view_module": "@jupyter-widgets/base",
            "_view_module_version": "1.2.0",
            "_view_name": "LayoutView",
            "align_content": null,
            "align_items": null,
            "align_self": null,
            "border": null,
            "bottom": null,
            "display": null,
            "flex": null,
            "flex_flow": null,
            "grid_area": null,
            "grid_auto_columns": null,
            "grid_auto_flow": null,
            "grid_auto_rows": null,
            "grid_column": null,
            "grid_gap": null,
            "grid_row": null,
            "grid_template_areas": null,
            "grid_template_columns": null,
            "grid_template_rows": null,
            "height": null,
            "justify_content": null,
            "justify_items": null,
            "left": null,
            "margin": null,
            "max_height": null,
            "max_width": null,
            "min_height": null,
            "min_width": null,
            "object_fit": null,
            "object_position": null,
            "order": null,
            "overflow": null,
            "overflow_x": null,
            "overflow_y": null,
            "padding": null,
            "right": null,
            "top": null,
            "visibility": null,
            "width": null
          }
        },
        "eec9161182864f0fb48d624ab968cd72": {
          "model_module": "@jupyter-widgets/controls",
          "model_name": "DescriptionStyleModel",
          "model_module_version": "1.5.0",
          "state": {
            "_model_module": "@jupyter-widgets/controls",
            "_model_module_version": "1.5.0",
            "_model_name": "DescriptionStyleModel",
            "_view_count": null,
            "_view_module": "@jupyter-widgets/base",
            "_view_module_version": "1.2.0",
            "_view_name": "StyleView",
            "description_width": ""
          }
        },
        "82fb35a878874e0b83a4bdf9f4985aa1": {
          "model_module": "@jupyter-widgets/base",
          "model_name": "LayoutModel",
          "model_module_version": "1.2.0",
          "state": {
            "_model_module": "@jupyter-widgets/base",
            "_model_module_version": "1.2.0",
            "_model_name": "LayoutModel",
            "_view_count": null,
            "_view_module": "@jupyter-widgets/base",
            "_view_module_version": "1.2.0",
            "_view_name": "LayoutView",
            "align_content": null,
            "align_items": null,
            "align_self": null,
            "border": null,
            "bottom": null,
            "display": null,
            "flex": null,
            "flex_flow": null,
            "grid_area": null,
            "grid_auto_columns": null,
            "grid_auto_flow": null,
            "grid_auto_rows": null,
            "grid_column": null,
            "grid_gap": null,
            "grid_row": null,
            "grid_template_areas": null,
            "grid_template_columns": null,
            "grid_template_rows": null,
            "height": null,
            "justify_content": null,
            "justify_items": null,
            "left": null,
            "margin": null,
            "max_height": null,
            "max_width": null,
            "min_height": null,
            "min_width": null,
            "object_fit": null,
            "object_position": null,
            "order": null,
            "overflow": null,
            "overflow_x": null,
            "overflow_y": null,
            "padding": null,
            "right": null,
            "top": null,
            "visibility": null,
            "width": null
          }
        },
        "36904a70a92648e393b01fcbec886ca2": {
          "model_module": "@jupyter-widgets/controls",
          "model_name": "ProgressStyleModel",
          "model_module_version": "1.5.0",
          "state": {
            "_model_module": "@jupyter-widgets/controls",
            "_model_module_version": "1.5.0",
            "_model_name": "ProgressStyleModel",
            "_view_count": null,
            "_view_module": "@jupyter-widgets/base",
            "_view_module_version": "1.2.0",
            "_view_name": "StyleView",
            "bar_color": null,
            "description_width": ""
          }
        },
        "479ce4179517438d8925969a70413d6f": {
          "model_module": "@jupyter-widgets/base",
          "model_name": "LayoutModel",
          "model_module_version": "1.2.0",
          "state": {
            "_model_module": "@jupyter-widgets/base",
            "_model_module_version": "1.2.0",
            "_model_name": "LayoutModel",
            "_view_count": null,
            "_view_module": "@jupyter-widgets/base",
            "_view_module_version": "1.2.0",
            "_view_name": "LayoutView",
            "align_content": null,
            "align_items": null,
            "align_self": null,
            "border": null,
            "bottom": null,
            "display": null,
            "flex": null,
            "flex_flow": null,
            "grid_area": null,
            "grid_auto_columns": null,
            "grid_auto_flow": null,
            "grid_auto_rows": null,
            "grid_column": null,
            "grid_gap": null,
            "grid_row": null,
            "grid_template_areas": null,
            "grid_template_columns": null,
            "grid_template_rows": null,
            "height": null,
            "justify_content": null,
            "justify_items": null,
            "left": null,
            "margin": null,
            "max_height": null,
            "max_width": null,
            "min_height": null,
            "min_width": null,
            "object_fit": null,
            "object_position": null,
            "order": null,
            "overflow": null,
            "overflow_x": null,
            "overflow_y": null,
            "padding": null,
            "right": null,
            "top": null,
            "visibility": null,
            "width": null
          }
        },
        "8142306eb8734c189b4001a76a202b5e": {
          "model_module": "@jupyter-widgets/controls",
          "model_name": "DescriptionStyleModel",
          "model_module_version": "1.5.0",
          "state": {
            "_model_module": "@jupyter-widgets/controls",
            "_model_module_version": "1.5.0",
            "_model_name": "DescriptionStyleModel",
            "_view_count": null,
            "_view_module": "@jupyter-widgets/base",
            "_view_module_version": "1.2.0",
            "_view_name": "StyleView",
            "description_width": ""
          }
        },
        "17f691bdae31410792e6c4959a57140a": {
          "model_module": "@jupyter-widgets/controls",
          "model_name": "HBoxModel",
          "model_module_version": "1.5.0",
          "state": {
            "_dom_classes": [],
            "_model_module": "@jupyter-widgets/controls",
            "_model_module_version": "1.5.0",
            "_model_name": "HBoxModel",
            "_view_count": null,
            "_view_module": "@jupyter-widgets/controls",
            "_view_module_version": "1.5.0",
            "_view_name": "HBoxView",
            "box_style": "",
            "children": [
              "IPY_MODEL_87806e5c118d41048aef9385c2a67490",
              "IPY_MODEL_cc999c8116c8432897563449989cd6d8",
              "IPY_MODEL_8fe7a26de9ca4e20897c4a78a14a265e"
            ],
            "layout": "IPY_MODEL_18055a6ef5df456eb4a1bea0d79b5a53"
          }
        },
        "87806e5c118d41048aef9385c2a67490": {
          "model_module": "@jupyter-widgets/controls",
          "model_name": "HTMLModel",
          "model_module_version": "1.5.0",
          "state": {
            "_dom_classes": [],
            "_model_module": "@jupyter-widgets/controls",
            "_model_module_version": "1.5.0",
            "_model_name": "HTMLModel",
            "_view_count": null,
            "_view_module": "@jupyter-widgets/controls",
            "_view_module_version": "1.5.0",
            "_view_name": "HTMLView",
            "description": "",
            "description_tooltip": null,
            "layout": "IPY_MODEL_3f551ae3a40845c7982b2c7a5f084908",
            "placeholder": "​",
            "style": "IPY_MODEL_04f91d4c5f164a90b4a0ea16451dfbca",
            "value": "Downloading (…)olve/main/merges.txt: 100%"
          }
        },
        "cc999c8116c8432897563449989cd6d8": {
          "model_module": "@jupyter-widgets/controls",
          "model_name": "FloatProgressModel",
          "model_module_version": "1.5.0",
          "state": {
            "_dom_classes": [],
            "_model_module": "@jupyter-widgets/controls",
            "_model_module_version": "1.5.0",
            "_model_name": "FloatProgressModel",
            "_view_count": null,
            "_view_module": "@jupyter-widgets/controls",
            "_view_module_version": "1.5.0",
            "_view_name": "ProgressView",
            "bar_style": "success",
            "description": "",
            "description_tooltip": null,
            "layout": "IPY_MODEL_c239e73333f44bcfb2e65ec95d2e15e7",
            "max": 524619,
            "min": 0,
            "orientation": "horizontal",
            "style": "IPY_MODEL_8fab7129a4d840038f2c9ba2da4b5d79",
            "value": 524619
          }
        },
        "8fe7a26de9ca4e20897c4a78a14a265e": {
          "model_module": "@jupyter-widgets/controls",
          "model_name": "HTMLModel",
          "model_module_version": "1.5.0",
          "state": {
            "_dom_classes": [],
            "_model_module": "@jupyter-widgets/controls",
            "_model_module_version": "1.5.0",
            "_model_name": "HTMLModel",
            "_view_count": null,
            "_view_module": "@jupyter-widgets/controls",
            "_view_module_version": "1.5.0",
            "_view_name": "HTMLView",
            "description": "",
            "description_tooltip": null,
            "layout": "IPY_MODEL_82e32fdd45a24cc3a5ecb9b55fe2efcc",
            "placeholder": "​",
            "style": "IPY_MODEL_7fba99e24e404802ace1fe080900c4f7",
            "value": " 525k/525k [00:00&lt;00:00, 5.14MB/s]"
          }
        },
        "18055a6ef5df456eb4a1bea0d79b5a53": {
          "model_module": "@jupyter-widgets/base",
          "model_name": "LayoutModel",
          "model_module_version": "1.2.0",
          "state": {
            "_model_module": "@jupyter-widgets/base",
            "_model_module_version": "1.2.0",
            "_model_name": "LayoutModel",
            "_view_count": null,
            "_view_module": "@jupyter-widgets/base",
            "_view_module_version": "1.2.0",
            "_view_name": "LayoutView",
            "align_content": null,
            "align_items": null,
            "align_self": null,
            "border": null,
            "bottom": null,
            "display": null,
            "flex": null,
            "flex_flow": null,
            "grid_area": null,
            "grid_auto_columns": null,
            "grid_auto_flow": null,
            "grid_auto_rows": null,
            "grid_column": null,
            "grid_gap": null,
            "grid_row": null,
            "grid_template_areas": null,
            "grid_template_columns": null,
            "grid_template_rows": null,
            "height": null,
            "justify_content": null,
            "justify_items": null,
            "left": null,
            "margin": null,
            "max_height": null,
            "max_width": null,
            "min_height": null,
            "min_width": null,
            "object_fit": null,
            "object_position": null,
            "order": null,
            "overflow": null,
            "overflow_x": null,
            "overflow_y": null,
            "padding": null,
            "right": null,
            "top": null,
            "visibility": null,
            "width": null
          }
        },
        "3f551ae3a40845c7982b2c7a5f084908": {
          "model_module": "@jupyter-widgets/base",
          "model_name": "LayoutModel",
          "model_module_version": "1.2.0",
          "state": {
            "_model_module": "@jupyter-widgets/base",
            "_model_module_version": "1.2.0",
            "_model_name": "LayoutModel",
            "_view_count": null,
            "_view_module": "@jupyter-widgets/base",
            "_view_module_version": "1.2.0",
            "_view_name": "LayoutView",
            "align_content": null,
            "align_items": null,
            "align_self": null,
            "border": null,
            "bottom": null,
            "display": null,
            "flex": null,
            "flex_flow": null,
            "grid_area": null,
            "grid_auto_columns": null,
            "grid_auto_flow": null,
            "grid_auto_rows": null,
            "grid_column": null,
            "grid_gap": null,
            "grid_row": null,
            "grid_template_areas": null,
            "grid_template_columns": null,
            "grid_template_rows": null,
            "height": null,
            "justify_content": null,
            "justify_items": null,
            "left": null,
            "margin": null,
            "max_height": null,
            "max_width": null,
            "min_height": null,
            "min_width": null,
            "object_fit": null,
            "object_position": null,
            "order": null,
            "overflow": null,
            "overflow_x": null,
            "overflow_y": null,
            "padding": null,
            "right": null,
            "top": null,
            "visibility": null,
            "width": null
          }
        },
        "04f91d4c5f164a90b4a0ea16451dfbca": {
          "model_module": "@jupyter-widgets/controls",
          "model_name": "DescriptionStyleModel",
          "model_module_version": "1.5.0",
          "state": {
            "_model_module": "@jupyter-widgets/controls",
            "_model_module_version": "1.5.0",
            "_model_name": "DescriptionStyleModel",
            "_view_count": null,
            "_view_module": "@jupyter-widgets/base",
            "_view_module_version": "1.2.0",
            "_view_name": "StyleView",
            "description_width": ""
          }
        },
        "c239e73333f44bcfb2e65ec95d2e15e7": {
          "model_module": "@jupyter-widgets/base",
          "model_name": "LayoutModel",
          "model_module_version": "1.2.0",
          "state": {
            "_model_module": "@jupyter-widgets/base",
            "_model_module_version": "1.2.0",
            "_model_name": "LayoutModel",
            "_view_count": null,
            "_view_module": "@jupyter-widgets/base",
            "_view_module_version": "1.2.0",
            "_view_name": "LayoutView",
            "align_content": null,
            "align_items": null,
            "align_self": null,
            "border": null,
            "bottom": null,
            "display": null,
            "flex": null,
            "flex_flow": null,
            "grid_area": null,
            "grid_auto_columns": null,
            "grid_auto_flow": null,
            "grid_auto_rows": null,
            "grid_column": null,
            "grid_gap": null,
            "grid_row": null,
            "grid_template_areas": null,
            "grid_template_columns": null,
            "grid_template_rows": null,
            "height": null,
            "justify_content": null,
            "justify_items": null,
            "left": null,
            "margin": null,
            "max_height": null,
            "max_width": null,
            "min_height": null,
            "min_width": null,
            "object_fit": null,
            "object_position": null,
            "order": null,
            "overflow": null,
            "overflow_x": null,
            "overflow_y": null,
            "padding": null,
            "right": null,
            "top": null,
            "visibility": null,
            "width": null
          }
        },
        "8fab7129a4d840038f2c9ba2da4b5d79": {
          "model_module": "@jupyter-widgets/controls",
          "model_name": "ProgressStyleModel",
          "model_module_version": "1.5.0",
          "state": {
            "_model_module": "@jupyter-widgets/controls",
            "_model_module_version": "1.5.0",
            "_model_name": "ProgressStyleModel",
            "_view_count": null,
            "_view_module": "@jupyter-widgets/base",
            "_view_module_version": "1.2.0",
            "_view_name": "StyleView",
            "bar_color": null,
            "description_width": ""
          }
        },
        "82e32fdd45a24cc3a5ecb9b55fe2efcc": {
          "model_module": "@jupyter-widgets/base",
          "model_name": "LayoutModel",
          "model_module_version": "1.2.0",
          "state": {
            "_model_module": "@jupyter-widgets/base",
            "_model_module_version": "1.2.0",
            "_model_name": "LayoutModel",
            "_view_count": null,
            "_view_module": "@jupyter-widgets/base",
            "_view_module_version": "1.2.0",
            "_view_name": "LayoutView",
            "align_content": null,
            "align_items": null,
            "align_self": null,
            "border": null,
            "bottom": null,
            "display": null,
            "flex": null,
            "flex_flow": null,
            "grid_area": null,
            "grid_auto_columns": null,
            "grid_auto_flow": null,
            "grid_auto_rows": null,
            "grid_column": null,
            "grid_gap": null,
            "grid_row": null,
            "grid_template_areas": null,
            "grid_template_columns": null,
            "grid_template_rows": null,
            "height": null,
            "justify_content": null,
            "justify_items": null,
            "left": null,
            "margin": null,
            "max_height": null,
            "max_width": null,
            "min_height": null,
            "min_width": null,
            "object_fit": null,
            "object_position": null,
            "order": null,
            "overflow": null,
            "overflow_x": null,
            "overflow_y": null,
            "padding": null,
            "right": null,
            "top": null,
            "visibility": null,
            "width": null
          }
        },
        "7fba99e24e404802ace1fe080900c4f7": {
          "model_module": "@jupyter-widgets/controls",
          "model_name": "DescriptionStyleModel",
          "model_module_version": "1.5.0",
          "state": {
            "_model_module": "@jupyter-widgets/controls",
            "_model_module_version": "1.5.0",
            "_model_name": "DescriptionStyleModel",
            "_view_count": null,
            "_view_module": "@jupyter-widgets/base",
            "_view_module_version": "1.2.0",
            "_view_name": "StyleView",
            "description_width": ""
          }
        },
        "1d1de27801fc4d96baa3c3f7cedf4e44": {
          "model_module": "@jupyter-widgets/controls",
          "model_name": "HBoxModel",
          "model_module_version": "1.5.0",
          "state": {
            "_dom_classes": [],
            "_model_module": "@jupyter-widgets/controls",
            "_model_module_version": "1.5.0",
            "_model_name": "HBoxModel",
            "_view_count": null,
            "_view_module": "@jupyter-widgets/controls",
            "_view_module_version": "1.5.0",
            "_view_name": "HBoxView",
            "box_style": "",
            "children": [
              "IPY_MODEL_42fbda42af2d409abcbc65f0f90a5d4a",
              "IPY_MODEL_a985b92576cf4bb2a432638ce3ed557f",
              "IPY_MODEL_5699560994464c97a7acc6d9237af5aa"
            ],
            "layout": "IPY_MODEL_aefa99216fa749868a102e6bf67cb2a2"
          }
        },
        "42fbda42af2d409abcbc65f0f90a5d4a": {
          "model_module": "@jupyter-widgets/controls",
          "model_name": "HTMLModel",
          "model_module_version": "1.5.0",
          "state": {
            "_dom_classes": [],
            "_model_module": "@jupyter-widgets/controls",
            "_model_module_version": "1.5.0",
            "_model_name": "HTMLModel",
            "_view_count": null,
            "_view_module": "@jupyter-widgets/controls",
            "_view_module_version": "1.5.0",
            "_view_name": "HTMLView",
            "description": "",
            "description_tooltip": null,
            "layout": "IPY_MODEL_3ffd5af3556e4e51985083e93f05e29e",
            "placeholder": "​",
            "style": "IPY_MODEL_f5da403980634838ac9d19faaf97adde",
            "value": "Downloading (…)cial_tokens_map.json: 100%"
          }
        },
        "a985b92576cf4bb2a432638ce3ed557f": {
          "model_module": "@jupyter-widgets/controls",
          "model_name": "FloatProgressModel",
          "model_module_version": "1.5.0",
          "state": {
            "_dom_classes": [],
            "_model_module": "@jupyter-widgets/controls",
            "_model_module_version": "1.5.0",
            "_model_name": "FloatProgressModel",
            "_view_count": null,
            "_view_module": "@jupyter-widgets/controls",
            "_view_module_version": "1.5.0",
            "_view_name": "ProgressView",
            "bar_style": "success",
            "description": "",
            "description_tooltip": null,
            "layout": "IPY_MODEL_98c95226185b464e96809971e2824272",
            "max": 389,
            "min": 0,
            "orientation": "horizontal",
            "style": "IPY_MODEL_87f90d0abd2f46e2b1515d56caa44614",
            "value": 389
          }
        },
        "5699560994464c97a7acc6d9237af5aa": {
          "model_module": "@jupyter-widgets/controls",
          "model_name": "HTMLModel",
          "model_module_version": "1.5.0",
          "state": {
            "_dom_classes": [],
            "_model_module": "@jupyter-widgets/controls",
            "_model_module_version": "1.5.0",
            "_model_name": "HTMLModel",
            "_view_count": null,
            "_view_module": "@jupyter-widgets/controls",
            "_view_module_version": "1.5.0",
            "_view_name": "HTMLView",
            "description": "",
            "description_tooltip": null,
            "layout": "IPY_MODEL_f59aade62b90451db5c6dcb5a5a64571",
            "placeholder": "​",
            "style": "IPY_MODEL_31804f5c16354352a5ee1be9b2c05656",
            "value": " 389/389 [00:00&lt;00:00, 3.63kB/s]"
          }
        },
        "aefa99216fa749868a102e6bf67cb2a2": {
          "model_module": "@jupyter-widgets/base",
          "model_name": "LayoutModel",
          "model_module_version": "1.2.0",
          "state": {
            "_model_module": "@jupyter-widgets/base",
            "_model_module_version": "1.2.0",
            "_model_name": "LayoutModel",
            "_view_count": null,
            "_view_module": "@jupyter-widgets/base",
            "_view_module_version": "1.2.0",
            "_view_name": "LayoutView",
            "align_content": null,
            "align_items": null,
            "align_self": null,
            "border": null,
            "bottom": null,
            "display": null,
            "flex": null,
            "flex_flow": null,
            "grid_area": null,
            "grid_auto_columns": null,
            "grid_auto_flow": null,
            "grid_auto_rows": null,
            "grid_column": null,
            "grid_gap": null,
            "grid_row": null,
            "grid_template_areas": null,
            "grid_template_columns": null,
            "grid_template_rows": null,
            "height": null,
            "justify_content": null,
            "justify_items": null,
            "left": null,
            "margin": null,
            "max_height": null,
            "max_width": null,
            "min_height": null,
            "min_width": null,
            "object_fit": null,
            "object_position": null,
            "order": null,
            "overflow": null,
            "overflow_x": null,
            "overflow_y": null,
            "padding": null,
            "right": null,
            "top": null,
            "visibility": null,
            "width": null
          }
        },
        "3ffd5af3556e4e51985083e93f05e29e": {
          "model_module": "@jupyter-widgets/base",
          "model_name": "LayoutModel",
          "model_module_version": "1.2.0",
          "state": {
            "_model_module": "@jupyter-widgets/base",
            "_model_module_version": "1.2.0",
            "_model_name": "LayoutModel",
            "_view_count": null,
            "_view_module": "@jupyter-widgets/base",
            "_view_module_version": "1.2.0",
            "_view_name": "LayoutView",
            "align_content": null,
            "align_items": null,
            "align_self": null,
            "border": null,
            "bottom": null,
            "display": null,
            "flex": null,
            "flex_flow": null,
            "grid_area": null,
            "grid_auto_columns": null,
            "grid_auto_flow": null,
            "grid_auto_rows": null,
            "grid_column": null,
            "grid_gap": null,
            "grid_row": null,
            "grid_template_areas": null,
            "grid_template_columns": null,
            "grid_template_rows": null,
            "height": null,
            "justify_content": null,
            "justify_items": null,
            "left": null,
            "margin": null,
            "max_height": null,
            "max_width": null,
            "min_height": null,
            "min_width": null,
            "object_fit": null,
            "object_position": null,
            "order": null,
            "overflow": null,
            "overflow_x": null,
            "overflow_y": null,
            "padding": null,
            "right": null,
            "top": null,
            "visibility": null,
            "width": null
          }
        },
        "f5da403980634838ac9d19faaf97adde": {
          "model_module": "@jupyter-widgets/controls",
          "model_name": "DescriptionStyleModel",
          "model_module_version": "1.5.0",
          "state": {
            "_model_module": "@jupyter-widgets/controls",
            "_model_module_version": "1.5.0",
            "_model_name": "DescriptionStyleModel",
            "_view_count": null,
            "_view_module": "@jupyter-widgets/base",
            "_view_module_version": "1.2.0",
            "_view_name": "StyleView",
            "description_width": ""
          }
        },
        "98c95226185b464e96809971e2824272": {
          "model_module": "@jupyter-widgets/base",
          "model_name": "LayoutModel",
          "model_module_version": "1.2.0",
          "state": {
            "_model_module": "@jupyter-widgets/base",
            "_model_module_version": "1.2.0",
            "_model_name": "LayoutModel",
            "_view_count": null,
            "_view_module": "@jupyter-widgets/base",
            "_view_module_version": "1.2.0",
            "_view_name": "LayoutView",
            "align_content": null,
            "align_items": null,
            "align_self": null,
            "border": null,
            "bottom": null,
            "display": null,
            "flex": null,
            "flex_flow": null,
            "grid_area": null,
            "grid_auto_columns": null,
            "grid_auto_flow": null,
            "grid_auto_rows": null,
            "grid_column": null,
            "grid_gap": null,
            "grid_row": null,
            "grid_template_areas": null,
            "grid_template_columns": null,
            "grid_template_rows": null,
            "height": null,
            "justify_content": null,
            "justify_items": null,
            "left": null,
            "margin": null,
            "max_height": null,
            "max_width": null,
            "min_height": null,
            "min_width": null,
            "object_fit": null,
            "object_position": null,
            "order": null,
            "overflow": null,
            "overflow_x": null,
            "overflow_y": null,
            "padding": null,
            "right": null,
            "top": null,
            "visibility": null,
            "width": null
          }
        },
        "87f90d0abd2f46e2b1515d56caa44614": {
          "model_module": "@jupyter-widgets/controls",
          "model_name": "ProgressStyleModel",
          "model_module_version": "1.5.0",
          "state": {
            "_model_module": "@jupyter-widgets/controls",
            "_model_module_version": "1.5.0",
            "_model_name": "ProgressStyleModel",
            "_view_count": null,
            "_view_module": "@jupyter-widgets/base",
            "_view_module_version": "1.2.0",
            "_view_name": "StyleView",
            "bar_color": null,
            "description_width": ""
          }
        },
        "f59aade62b90451db5c6dcb5a5a64571": {
          "model_module": "@jupyter-widgets/base",
          "model_name": "LayoutModel",
          "model_module_version": "1.2.0",
          "state": {
            "_model_module": "@jupyter-widgets/base",
            "_model_module_version": "1.2.0",
            "_model_name": "LayoutModel",
            "_view_count": null,
            "_view_module": "@jupyter-widgets/base",
            "_view_module_version": "1.2.0",
            "_view_name": "LayoutView",
            "align_content": null,
            "align_items": null,
            "align_self": null,
            "border": null,
            "bottom": null,
            "display": null,
            "flex": null,
            "flex_flow": null,
            "grid_area": null,
            "grid_auto_columns": null,
            "grid_auto_flow": null,
            "grid_auto_rows": null,
            "grid_column": null,
            "grid_gap": null,
            "grid_row": null,
            "grid_template_areas": null,
            "grid_template_columns": null,
            "grid_template_rows": null,
            "height": null,
            "justify_content": null,
            "justify_items": null,
            "left": null,
            "margin": null,
            "max_height": null,
            "max_width": null,
            "min_height": null,
            "min_width": null,
            "object_fit": null,
            "object_position": null,
            "order": null,
            "overflow": null,
            "overflow_x": null,
            "overflow_y": null,
            "padding": null,
            "right": null,
            "top": null,
            "visibility": null,
            "width": null
          }
        },
        "31804f5c16354352a5ee1be9b2c05656": {
          "model_module": "@jupyter-widgets/controls",
          "model_name": "DescriptionStyleModel",
          "model_module_version": "1.5.0",
          "state": {
            "_model_module": "@jupyter-widgets/controls",
            "_model_module_version": "1.5.0",
            "_model_name": "DescriptionStyleModel",
            "_view_count": null,
            "_view_module": "@jupyter-widgets/base",
            "_view_module_version": "1.2.0",
            "_view_name": "StyleView",
            "description_width": ""
          }
        },
        "0b6fffae13274168996527bc6f28b40a": {
          "model_module": "@jupyter-widgets/controls",
          "model_name": "HBoxModel",
          "model_module_version": "1.5.0",
          "state": {
            "_dom_classes": [],
            "_model_module": "@jupyter-widgets/controls",
            "_model_module_version": "1.5.0",
            "_model_name": "HBoxModel",
            "_view_count": null,
            "_view_module": "@jupyter-widgets/controls",
            "_view_module_version": "1.5.0",
            "_view_name": "HBoxView",
            "box_style": "",
            "children": [
              "IPY_MODEL_04ef9cfcc64840328c1674f8710e52b5",
              "IPY_MODEL_52a9f650ba444cb0ac26e84f4cd59d80",
              "IPY_MODEL_ed62a485328b4ab79e6d910ffcc87c68"
            ],
            "layout": "IPY_MODEL_a653763edf134a2698b706c04d99c3b0"
          }
        },
        "04ef9cfcc64840328c1674f8710e52b5": {
          "model_module": "@jupyter-widgets/controls",
          "model_name": "HTMLModel",
          "model_module_version": "1.5.0",
          "state": {
            "_dom_classes": [],
            "_model_module": "@jupyter-widgets/controls",
            "_model_module_version": "1.5.0",
            "_model_name": "HTMLModel",
            "_view_count": null,
            "_view_module": "@jupyter-widgets/controls",
            "_view_module_version": "1.5.0",
            "_view_name": "HTMLView",
            "description": "",
            "description_tooltip": null,
            "layout": "IPY_MODEL_f5f82af6142a412b95689694f210f2e9",
            "placeholder": "​",
            "style": "IPY_MODEL_4f0b1fc53b5d439f94fff7c9eeeca60b",
            "value": "Downloading (…)okenizer_config.json: 100%"
          }
        },
        "52a9f650ba444cb0ac26e84f4cd59d80": {
          "model_module": "@jupyter-widgets/controls",
          "model_name": "FloatProgressModel",
          "model_module_version": "1.5.0",
          "state": {
            "_dom_classes": [],
            "_model_module": "@jupyter-widgets/controls",
            "_model_module_version": "1.5.0",
            "_model_name": "FloatProgressModel",
            "_view_count": null,
            "_view_module": "@jupyter-widgets/controls",
            "_view_module_version": "1.5.0",
            "_view_name": "ProgressView",
            "bar_style": "success",
            "description": "",
            "description_tooltip": null,
            "layout": "IPY_MODEL_dad4a6e30dfa461895ec9727ab4680f9",
            "max": 905,
            "min": 0,
            "orientation": "horizontal",
            "style": "IPY_MODEL_32b87845599e4186b09a44141c643c14",
            "value": 905
          }
        },
        "ed62a485328b4ab79e6d910ffcc87c68": {
          "model_module": "@jupyter-widgets/controls",
          "model_name": "HTMLModel",
          "model_module_version": "1.5.0",
          "state": {
            "_dom_classes": [],
            "_model_module": "@jupyter-widgets/controls",
            "_model_module_version": "1.5.0",
            "_model_name": "HTMLModel",
            "_view_count": null,
            "_view_module": "@jupyter-widgets/controls",
            "_view_module_version": "1.5.0",
            "_view_name": "HTMLView",
            "description": "",
            "description_tooltip": null,
            "layout": "IPY_MODEL_0d0ffc4bde7841beabb76dbdb05ea28a",
            "placeholder": "​",
            "style": "IPY_MODEL_c2fef103e47f4ad79f6eada9b193fbe5",
            "value": " 905/905 [00:00&lt;00:00, 9.43kB/s]"
          }
        },
        "a653763edf134a2698b706c04d99c3b0": {
          "model_module": "@jupyter-widgets/base",
          "model_name": "LayoutModel",
          "model_module_version": "1.2.0",
          "state": {
            "_model_module": "@jupyter-widgets/base",
            "_model_module_version": "1.2.0",
            "_model_name": "LayoutModel",
            "_view_count": null,
            "_view_module": "@jupyter-widgets/base",
            "_view_module_version": "1.2.0",
            "_view_name": "LayoutView",
            "align_content": null,
            "align_items": null,
            "align_self": null,
            "border": null,
            "bottom": null,
            "display": null,
            "flex": null,
            "flex_flow": null,
            "grid_area": null,
            "grid_auto_columns": null,
            "grid_auto_flow": null,
            "grid_auto_rows": null,
            "grid_column": null,
            "grid_gap": null,
            "grid_row": null,
            "grid_template_areas": null,
            "grid_template_columns": null,
            "grid_template_rows": null,
            "height": null,
            "justify_content": null,
            "justify_items": null,
            "left": null,
            "margin": null,
            "max_height": null,
            "max_width": null,
            "min_height": null,
            "min_width": null,
            "object_fit": null,
            "object_position": null,
            "order": null,
            "overflow": null,
            "overflow_x": null,
            "overflow_y": null,
            "padding": null,
            "right": null,
            "top": null,
            "visibility": null,
            "width": null
          }
        },
        "f5f82af6142a412b95689694f210f2e9": {
          "model_module": "@jupyter-widgets/base",
          "model_name": "LayoutModel",
          "model_module_version": "1.2.0",
          "state": {
            "_model_module": "@jupyter-widgets/base",
            "_model_module_version": "1.2.0",
            "_model_name": "LayoutModel",
            "_view_count": null,
            "_view_module": "@jupyter-widgets/base",
            "_view_module_version": "1.2.0",
            "_view_name": "LayoutView",
            "align_content": null,
            "align_items": null,
            "align_self": null,
            "border": null,
            "bottom": null,
            "display": null,
            "flex": null,
            "flex_flow": null,
            "grid_area": null,
            "grid_auto_columns": null,
            "grid_auto_flow": null,
            "grid_auto_rows": null,
            "grid_column": null,
            "grid_gap": null,
            "grid_row": null,
            "grid_template_areas": null,
            "grid_template_columns": null,
            "grid_template_rows": null,
            "height": null,
            "justify_content": null,
            "justify_items": null,
            "left": null,
            "margin": null,
            "max_height": null,
            "max_width": null,
            "min_height": null,
            "min_width": null,
            "object_fit": null,
            "object_position": null,
            "order": null,
            "overflow": null,
            "overflow_x": null,
            "overflow_y": null,
            "padding": null,
            "right": null,
            "top": null,
            "visibility": null,
            "width": null
          }
        },
        "4f0b1fc53b5d439f94fff7c9eeeca60b": {
          "model_module": "@jupyter-widgets/controls",
          "model_name": "DescriptionStyleModel",
          "model_module_version": "1.5.0",
          "state": {
            "_model_module": "@jupyter-widgets/controls",
            "_model_module_version": "1.5.0",
            "_model_name": "DescriptionStyleModel",
            "_view_count": null,
            "_view_module": "@jupyter-widgets/base",
            "_view_module_version": "1.2.0",
            "_view_name": "StyleView",
            "description_width": ""
          }
        },
        "dad4a6e30dfa461895ec9727ab4680f9": {
          "model_module": "@jupyter-widgets/base",
          "model_name": "LayoutModel",
          "model_module_version": "1.2.0",
          "state": {
            "_model_module": "@jupyter-widgets/base",
            "_model_module_version": "1.2.0",
            "_model_name": "LayoutModel",
            "_view_count": null,
            "_view_module": "@jupyter-widgets/base",
            "_view_module_version": "1.2.0",
            "_view_name": "LayoutView",
            "align_content": null,
            "align_items": null,
            "align_self": null,
            "border": null,
            "bottom": null,
            "display": null,
            "flex": null,
            "flex_flow": null,
            "grid_area": null,
            "grid_auto_columns": null,
            "grid_auto_flow": null,
            "grid_auto_rows": null,
            "grid_column": null,
            "grid_gap": null,
            "grid_row": null,
            "grid_template_areas": null,
            "grid_template_columns": null,
            "grid_template_rows": null,
            "height": null,
            "justify_content": null,
            "justify_items": null,
            "left": null,
            "margin": null,
            "max_height": null,
            "max_width": null,
            "min_height": null,
            "min_width": null,
            "object_fit": null,
            "object_position": null,
            "order": null,
            "overflow": null,
            "overflow_x": null,
            "overflow_y": null,
            "padding": null,
            "right": null,
            "top": null,
            "visibility": null,
            "width": null
          }
        },
        "32b87845599e4186b09a44141c643c14": {
          "model_module": "@jupyter-widgets/controls",
          "model_name": "ProgressStyleModel",
          "model_module_version": "1.5.0",
          "state": {
            "_model_module": "@jupyter-widgets/controls",
            "_model_module_version": "1.5.0",
            "_model_name": "ProgressStyleModel",
            "_view_count": null,
            "_view_module": "@jupyter-widgets/base",
            "_view_module_version": "1.2.0",
            "_view_name": "StyleView",
            "bar_color": null,
            "description_width": ""
          }
        },
        "0d0ffc4bde7841beabb76dbdb05ea28a": {
          "model_module": "@jupyter-widgets/base",
          "model_name": "LayoutModel",
          "model_module_version": "1.2.0",
          "state": {
            "_model_module": "@jupyter-widgets/base",
            "_model_module_version": "1.2.0",
            "_model_name": "LayoutModel",
            "_view_count": null,
            "_view_module": "@jupyter-widgets/base",
            "_view_module_version": "1.2.0",
            "_view_name": "LayoutView",
            "align_content": null,
            "align_items": null,
            "align_self": null,
            "border": null,
            "bottom": null,
            "display": null,
            "flex": null,
            "flex_flow": null,
            "grid_area": null,
            "grid_auto_columns": null,
            "grid_auto_flow": null,
            "grid_auto_rows": null,
            "grid_column": null,
            "grid_gap": null,
            "grid_row": null,
            "grid_template_areas": null,
            "grid_template_columns": null,
            "grid_template_rows": null,
            "height": null,
            "justify_content": null,
            "justify_items": null,
            "left": null,
            "margin": null,
            "max_height": null,
            "max_width": null,
            "min_height": null,
            "min_width": null,
            "object_fit": null,
            "object_position": null,
            "order": null,
            "overflow": null,
            "overflow_x": null,
            "overflow_y": null,
            "padding": null,
            "right": null,
            "top": null,
            "visibility": null,
            "width": null
          }
        },
        "c2fef103e47f4ad79f6eada9b193fbe5": {
          "model_module": "@jupyter-widgets/controls",
          "model_name": "DescriptionStyleModel",
          "model_module_version": "1.5.0",
          "state": {
            "_model_module": "@jupyter-widgets/controls",
            "_model_module_version": "1.5.0",
            "_model_name": "DescriptionStyleModel",
            "_view_count": null,
            "_view_module": "@jupyter-widgets/base",
            "_view_module_version": "1.2.0",
            "_view_name": "StyleView",
            "description_width": ""
          }
        },
        "52a0512313d1474695a82b6e7cefe469": {
          "model_module": "@jupyter-widgets/controls",
          "model_name": "HBoxModel",
          "model_module_version": "1.5.0",
          "state": {
            "_dom_classes": [],
            "_model_module": "@jupyter-widgets/controls",
            "_model_module_version": "1.5.0",
            "_model_name": "HBoxModel",
            "_view_count": null,
            "_view_module": "@jupyter-widgets/controls",
            "_view_module_version": "1.5.0",
            "_view_name": "HBoxView",
            "box_style": "",
            "children": [
              "IPY_MODEL_dcdb8a7371cc4c2984cfbf81dd5244d4",
              "IPY_MODEL_9cce02b46bec4d0da21919ad64145cbd",
              "IPY_MODEL_14e275f9b3694e44ae75b81c8d103acc"
            ],
            "layout": "IPY_MODEL_f15c0eb92bc74540a8074d55107ce93b"
          }
        },
        "dcdb8a7371cc4c2984cfbf81dd5244d4": {
          "model_module": "@jupyter-widgets/controls",
          "model_name": "HTMLModel",
          "model_module_version": "1.5.0",
          "state": {
            "_dom_classes": [],
            "_model_module": "@jupyter-widgets/controls",
            "_model_module_version": "1.5.0",
            "_model_name": "HTMLModel",
            "_view_count": null,
            "_view_module": "@jupyter-widgets/controls",
            "_view_module_version": "1.5.0",
            "_view_name": "HTMLView",
            "description": "",
            "description_tooltip": null,
            "layout": "IPY_MODEL_b9c85a050c2b46aea8296a4c53d70c17",
            "placeholder": "​",
            "style": "IPY_MODEL_d6b66573bba14fbd88a71e031b65d9b5",
            "value": "Downloading (…)lve/main/config.json: 100%"
          }
        },
        "9cce02b46bec4d0da21919ad64145cbd": {
          "model_module": "@jupyter-widgets/controls",
          "model_name": "FloatProgressModel",
          "model_module_version": "1.5.0",
          "state": {
            "_dom_classes": [],
            "_model_module": "@jupyter-widgets/controls",
            "_model_module_version": "1.5.0",
            "_model_name": "FloatProgressModel",
            "_view_count": null,
            "_view_module": "@jupyter-widgets/controls",
            "_view_module_version": "1.5.0",
            "_view_name": "ProgressView",
            "bar_style": "success",
            "description": "",
            "description_tooltip": null,
            "layout": "IPY_MODEL_343583e5d9114b399ac2371ab34ffc36",
            "max": 4519,
            "min": 0,
            "orientation": "horizontal",
            "style": "IPY_MODEL_ba0632c86b644978aff3a4cc53664a79",
            "value": 4519
          }
        },
        "14e275f9b3694e44ae75b81c8d103acc": {
          "model_module": "@jupyter-widgets/controls",
          "model_name": "HTMLModel",
          "model_module_version": "1.5.0",
          "state": {
            "_dom_classes": [],
            "_model_module": "@jupyter-widgets/controls",
            "_model_module_version": "1.5.0",
            "_model_name": "HTMLModel",
            "_view_count": null,
            "_view_module": "@jupyter-widgets/controls",
            "_view_module_version": "1.5.0",
            "_view_name": "HTMLView",
            "description": "",
            "description_tooltip": null,
            "layout": "IPY_MODEL_12ba206833fc4675a62d8dfdca95a25f",
            "placeholder": "​",
            "style": "IPY_MODEL_57a53f3bcdf54bc685d68f293f22c7af",
            "value": " 4.52k/4.52k [00:00&lt;00:00, 40.9kB/s]"
          }
        },
        "f15c0eb92bc74540a8074d55107ce93b": {
          "model_module": "@jupyter-widgets/base",
          "model_name": "LayoutModel",
          "model_module_version": "1.2.0",
          "state": {
            "_model_module": "@jupyter-widgets/base",
            "_model_module_version": "1.2.0",
            "_model_name": "LayoutModel",
            "_view_count": null,
            "_view_module": "@jupyter-widgets/base",
            "_view_module_version": "1.2.0",
            "_view_name": "LayoutView",
            "align_content": null,
            "align_items": null,
            "align_self": null,
            "border": null,
            "bottom": null,
            "display": null,
            "flex": null,
            "flex_flow": null,
            "grid_area": null,
            "grid_auto_columns": null,
            "grid_auto_flow": null,
            "grid_auto_rows": null,
            "grid_column": null,
            "grid_gap": null,
            "grid_row": null,
            "grid_template_areas": null,
            "grid_template_columns": null,
            "grid_template_rows": null,
            "height": null,
            "justify_content": null,
            "justify_items": null,
            "left": null,
            "margin": null,
            "max_height": null,
            "max_width": null,
            "min_height": null,
            "min_width": null,
            "object_fit": null,
            "object_position": null,
            "order": null,
            "overflow": null,
            "overflow_x": null,
            "overflow_y": null,
            "padding": null,
            "right": null,
            "top": null,
            "visibility": null,
            "width": null
          }
        },
        "b9c85a050c2b46aea8296a4c53d70c17": {
          "model_module": "@jupyter-widgets/base",
          "model_name": "LayoutModel",
          "model_module_version": "1.2.0",
          "state": {
            "_model_module": "@jupyter-widgets/base",
            "_model_module_version": "1.2.0",
            "_model_name": "LayoutModel",
            "_view_count": null,
            "_view_module": "@jupyter-widgets/base",
            "_view_module_version": "1.2.0",
            "_view_name": "LayoutView",
            "align_content": null,
            "align_items": null,
            "align_self": null,
            "border": null,
            "bottom": null,
            "display": null,
            "flex": null,
            "flex_flow": null,
            "grid_area": null,
            "grid_auto_columns": null,
            "grid_auto_flow": null,
            "grid_auto_rows": null,
            "grid_column": null,
            "grid_gap": null,
            "grid_row": null,
            "grid_template_areas": null,
            "grid_template_columns": null,
            "grid_template_rows": null,
            "height": null,
            "justify_content": null,
            "justify_items": null,
            "left": null,
            "margin": null,
            "max_height": null,
            "max_width": null,
            "min_height": null,
            "min_width": null,
            "object_fit": null,
            "object_position": null,
            "order": null,
            "overflow": null,
            "overflow_x": null,
            "overflow_y": null,
            "padding": null,
            "right": null,
            "top": null,
            "visibility": null,
            "width": null
          }
        },
        "d6b66573bba14fbd88a71e031b65d9b5": {
          "model_module": "@jupyter-widgets/controls",
          "model_name": "DescriptionStyleModel",
          "model_module_version": "1.5.0",
          "state": {
            "_model_module": "@jupyter-widgets/controls",
            "_model_module_version": "1.5.0",
            "_model_name": "DescriptionStyleModel",
            "_view_count": null,
            "_view_module": "@jupyter-widgets/base",
            "_view_module_version": "1.2.0",
            "_view_name": "StyleView",
            "description_width": ""
          }
        },
        "343583e5d9114b399ac2371ab34ffc36": {
          "model_module": "@jupyter-widgets/base",
          "model_name": "LayoutModel",
          "model_module_version": "1.2.0",
          "state": {
            "_model_module": "@jupyter-widgets/base",
            "_model_module_version": "1.2.0",
            "_model_name": "LayoutModel",
            "_view_count": null,
            "_view_module": "@jupyter-widgets/base",
            "_view_module_version": "1.2.0",
            "_view_name": "LayoutView",
            "align_content": null,
            "align_items": null,
            "align_self": null,
            "border": null,
            "bottom": null,
            "display": null,
            "flex": null,
            "flex_flow": null,
            "grid_area": null,
            "grid_auto_columns": null,
            "grid_auto_flow": null,
            "grid_auto_rows": null,
            "grid_column": null,
            "grid_gap": null,
            "grid_row": null,
            "grid_template_areas": null,
            "grid_template_columns": null,
            "grid_template_rows": null,
            "height": null,
            "justify_content": null,
            "justify_items": null,
            "left": null,
            "margin": null,
            "max_height": null,
            "max_width": null,
            "min_height": null,
            "min_width": null,
            "object_fit": null,
            "object_position": null,
            "order": null,
            "overflow": null,
            "overflow_x": null,
            "overflow_y": null,
            "padding": null,
            "right": null,
            "top": null,
            "visibility": null,
            "width": null
          }
        },
        "ba0632c86b644978aff3a4cc53664a79": {
          "model_module": "@jupyter-widgets/controls",
          "model_name": "ProgressStyleModel",
          "model_module_version": "1.5.0",
          "state": {
            "_model_module": "@jupyter-widgets/controls",
            "_model_module_version": "1.5.0",
            "_model_name": "ProgressStyleModel",
            "_view_count": null,
            "_view_module": "@jupyter-widgets/base",
            "_view_module_version": "1.2.0",
            "_view_name": "StyleView",
            "bar_color": null,
            "description_width": ""
          }
        },
        "12ba206833fc4675a62d8dfdca95a25f": {
          "model_module": "@jupyter-widgets/base",
          "model_name": "LayoutModel",
          "model_module_version": "1.2.0",
          "state": {
            "_model_module": "@jupyter-widgets/base",
            "_model_module_version": "1.2.0",
            "_model_name": "LayoutModel",
            "_view_count": null,
            "_view_module": "@jupyter-widgets/base",
            "_view_module_version": "1.2.0",
            "_view_name": "LayoutView",
            "align_content": null,
            "align_items": null,
            "align_self": null,
            "border": null,
            "bottom": null,
            "display": null,
            "flex": null,
            "flex_flow": null,
            "grid_area": null,
            "grid_auto_columns": null,
            "grid_auto_flow": null,
            "grid_auto_rows": null,
            "grid_column": null,
            "grid_gap": null,
            "grid_row": null,
            "grid_template_areas": null,
            "grid_template_columns": null,
            "grid_template_rows": null,
            "height": null,
            "justify_content": null,
            "justify_items": null,
            "left": null,
            "margin": null,
            "max_height": null,
            "max_width": null,
            "min_height": null,
            "min_width": null,
            "object_fit": null,
            "object_position": null,
            "order": null,
            "overflow": null,
            "overflow_x": null,
            "overflow_y": null,
            "padding": null,
            "right": null,
            "top": null,
            "visibility": null,
            "width": null
          }
        },
        "57a53f3bcdf54bc685d68f293f22c7af": {
          "model_module": "@jupyter-widgets/controls",
          "model_name": "DescriptionStyleModel",
          "model_module_version": "1.5.0",
          "state": {
            "_model_module": "@jupyter-widgets/controls",
            "_model_module_version": "1.5.0",
            "_model_name": "DescriptionStyleModel",
            "_view_count": null,
            "_view_module": "@jupyter-widgets/base",
            "_view_module_version": "1.2.0",
            "_view_name": "StyleView",
            "description_width": ""
          }
        },
        "503272708b554903afe0edf4019fa1ac": {
          "model_module": "@jupyter-widgets/controls",
          "model_name": "HBoxModel",
          "model_module_version": "1.5.0",
          "state": {
            "_dom_classes": [],
            "_model_module": "@jupyter-widgets/controls",
            "_model_module_version": "1.5.0",
            "_model_name": "HBoxModel",
            "_view_count": null,
            "_view_module": "@jupyter-widgets/controls",
            "_view_module_version": "1.5.0",
            "_view_name": "HBoxView",
            "box_style": "",
            "children": [
              "IPY_MODEL_653e43c5cd2649cfb89123bf90d5885c",
              "IPY_MODEL_2ddc39e742444ceabceb717b56ec32f0",
              "IPY_MODEL_7a1600084b774c37b161592c38f83fbe"
            ],
            "layout": "IPY_MODEL_13ee3db91c714e4ba49e347510538455"
          }
        },
        "653e43c5cd2649cfb89123bf90d5885c": {
          "model_module": "@jupyter-widgets/controls",
          "model_name": "HTMLModel",
          "model_module_version": "1.5.0",
          "state": {
            "_dom_classes": [],
            "_model_module": "@jupyter-widgets/controls",
            "_model_module_version": "1.5.0",
            "_model_name": "HTMLModel",
            "_view_count": null,
            "_view_module": "@jupyter-widgets/controls",
            "_view_module_version": "1.5.0",
            "_view_name": "HTMLView",
            "description": "",
            "description_tooltip": null,
            "layout": "IPY_MODEL_5348c67ff92248ba9b1486977b82a609",
            "placeholder": "​",
            "style": "IPY_MODEL_0008b59cc1c045d4bef407538612fc8c",
            "value": "Downloading pytorch_model.bin: 100%"
          }
        },
        "2ddc39e742444ceabceb717b56ec32f0": {
          "model_module": "@jupyter-widgets/controls",
          "model_name": "FloatProgressModel",
          "model_module_version": "1.5.0",
          "state": {
            "_dom_classes": [],
            "_model_module": "@jupyter-widgets/controls",
            "_model_module_version": "1.5.0",
            "_model_name": "FloatProgressModel",
            "_view_count": null,
            "_view_module": "@jupyter-widgets/controls",
            "_view_module_version": "1.5.0",
            "_view_name": "ProgressView",
            "bar_style": "success",
            "description": "",
            "description_tooltip": null,
            "layout": "IPY_MODEL_a24794a2d9c24ad5856b6d997bb393f6",
            "max": 1710671599,
            "min": 0,
            "orientation": "horizontal",
            "style": "IPY_MODEL_5a4ea0490bae4e6aa1158533acf7eabd",
            "value": 1710671599
          }
        },
        "7a1600084b774c37b161592c38f83fbe": {
          "model_module": "@jupyter-widgets/controls",
          "model_name": "HTMLModel",
          "model_module_version": "1.5.0",
          "state": {
            "_dom_classes": [],
            "_model_module": "@jupyter-widgets/controls",
            "_model_module_version": "1.5.0",
            "_model_name": "HTMLModel",
            "_view_count": null,
            "_view_module": "@jupyter-widgets/controls",
            "_view_module_version": "1.5.0",
            "_view_name": "HTMLView",
            "description": "",
            "description_tooltip": null,
            "layout": "IPY_MODEL_61148ef03c964080b8f9ce36fa2a5ed5",
            "placeholder": "​",
            "style": "IPY_MODEL_9d877ffeaa0044c3a1bbfd1c031172de",
            "value": " 1.71G/1.71G [00:07&lt;00:00, 203MB/s]"
          }
        },
        "13ee3db91c714e4ba49e347510538455": {
          "model_module": "@jupyter-widgets/base",
          "model_name": "LayoutModel",
          "model_module_version": "1.2.0",
          "state": {
            "_model_module": "@jupyter-widgets/base",
            "_model_module_version": "1.2.0",
            "_model_name": "LayoutModel",
            "_view_count": null,
            "_view_module": "@jupyter-widgets/base",
            "_view_module_version": "1.2.0",
            "_view_name": "LayoutView",
            "align_content": null,
            "align_items": null,
            "align_self": null,
            "border": null,
            "bottom": null,
            "display": null,
            "flex": null,
            "flex_flow": null,
            "grid_area": null,
            "grid_auto_columns": null,
            "grid_auto_flow": null,
            "grid_auto_rows": null,
            "grid_column": null,
            "grid_gap": null,
            "grid_row": null,
            "grid_template_areas": null,
            "grid_template_columns": null,
            "grid_template_rows": null,
            "height": null,
            "justify_content": null,
            "justify_items": null,
            "left": null,
            "margin": null,
            "max_height": null,
            "max_width": null,
            "min_height": null,
            "min_width": null,
            "object_fit": null,
            "object_position": null,
            "order": null,
            "overflow": null,
            "overflow_x": null,
            "overflow_y": null,
            "padding": null,
            "right": null,
            "top": null,
            "visibility": null,
            "width": null
          }
        },
        "5348c67ff92248ba9b1486977b82a609": {
          "model_module": "@jupyter-widgets/base",
          "model_name": "LayoutModel",
          "model_module_version": "1.2.0",
          "state": {
            "_model_module": "@jupyter-widgets/base",
            "_model_module_version": "1.2.0",
            "_model_name": "LayoutModel",
            "_view_count": null,
            "_view_module": "@jupyter-widgets/base",
            "_view_module_version": "1.2.0",
            "_view_name": "LayoutView",
            "align_content": null,
            "align_items": null,
            "align_self": null,
            "border": null,
            "bottom": null,
            "display": null,
            "flex": null,
            "flex_flow": null,
            "grid_area": null,
            "grid_auto_columns": null,
            "grid_auto_flow": null,
            "grid_auto_rows": null,
            "grid_column": null,
            "grid_gap": null,
            "grid_row": null,
            "grid_template_areas": null,
            "grid_template_columns": null,
            "grid_template_rows": null,
            "height": null,
            "justify_content": null,
            "justify_items": null,
            "left": null,
            "margin": null,
            "max_height": null,
            "max_width": null,
            "min_height": null,
            "min_width": null,
            "object_fit": null,
            "object_position": null,
            "order": null,
            "overflow": null,
            "overflow_x": null,
            "overflow_y": null,
            "padding": null,
            "right": null,
            "top": null,
            "visibility": null,
            "width": null
          }
        },
        "0008b59cc1c045d4bef407538612fc8c": {
          "model_module": "@jupyter-widgets/controls",
          "model_name": "DescriptionStyleModel",
          "model_module_version": "1.5.0",
          "state": {
            "_model_module": "@jupyter-widgets/controls",
            "_model_module_version": "1.5.0",
            "_model_name": "DescriptionStyleModel",
            "_view_count": null,
            "_view_module": "@jupyter-widgets/base",
            "_view_module_version": "1.2.0",
            "_view_name": "StyleView",
            "description_width": ""
          }
        },
        "a24794a2d9c24ad5856b6d997bb393f6": {
          "model_module": "@jupyter-widgets/base",
          "model_name": "LayoutModel",
          "model_module_version": "1.2.0",
          "state": {
            "_model_module": "@jupyter-widgets/base",
            "_model_module_version": "1.2.0",
            "_model_name": "LayoutModel",
            "_view_count": null,
            "_view_module": "@jupyter-widgets/base",
            "_view_module_version": "1.2.0",
            "_view_name": "LayoutView",
            "align_content": null,
            "align_items": null,
            "align_self": null,
            "border": null,
            "bottom": null,
            "display": null,
            "flex": null,
            "flex_flow": null,
            "grid_area": null,
            "grid_auto_columns": null,
            "grid_auto_flow": null,
            "grid_auto_rows": null,
            "grid_column": null,
            "grid_gap": null,
            "grid_row": null,
            "grid_template_areas": null,
            "grid_template_columns": null,
            "grid_template_rows": null,
            "height": null,
            "justify_content": null,
            "justify_items": null,
            "left": null,
            "margin": null,
            "max_height": null,
            "max_width": null,
            "min_height": null,
            "min_width": null,
            "object_fit": null,
            "object_position": null,
            "order": null,
            "overflow": null,
            "overflow_x": null,
            "overflow_y": null,
            "padding": null,
            "right": null,
            "top": null,
            "visibility": null,
            "width": null
          }
        },
        "5a4ea0490bae4e6aa1158533acf7eabd": {
          "model_module": "@jupyter-widgets/controls",
          "model_name": "ProgressStyleModel",
          "model_module_version": "1.5.0",
          "state": {
            "_model_module": "@jupyter-widgets/controls",
            "_model_module_version": "1.5.0",
            "_model_name": "ProgressStyleModel",
            "_view_count": null,
            "_view_module": "@jupyter-widgets/base",
            "_view_module_version": "1.2.0",
            "_view_name": "StyleView",
            "bar_color": null,
            "description_width": ""
          }
        },
        "61148ef03c964080b8f9ce36fa2a5ed5": {
          "model_module": "@jupyter-widgets/base",
          "model_name": "LayoutModel",
          "model_module_version": "1.2.0",
          "state": {
            "_model_module": "@jupyter-widgets/base",
            "_model_module_version": "1.2.0",
            "_model_name": "LayoutModel",
            "_view_count": null,
            "_view_module": "@jupyter-widgets/base",
            "_view_module_version": "1.2.0",
            "_view_name": "LayoutView",
            "align_content": null,
            "align_items": null,
            "align_self": null,
            "border": null,
            "bottom": null,
            "display": null,
            "flex": null,
            "flex_flow": null,
            "grid_area": null,
            "grid_auto_columns": null,
            "grid_auto_flow": null,
            "grid_auto_rows": null,
            "grid_column": null,
            "grid_gap": null,
            "grid_row": null,
            "grid_template_areas": null,
            "grid_template_columns": null,
            "grid_template_rows": null,
            "height": null,
            "justify_content": null,
            "justify_items": null,
            "left": null,
            "margin": null,
            "max_height": null,
            "max_width": null,
            "min_height": null,
            "min_width": null,
            "object_fit": null,
            "object_position": null,
            "order": null,
            "overflow": null,
            "overflow_x": null,
            "overflow_y": null,
            "padding": null,
            "right": null,
            "top": null,
            "visibility": null,
            "width": null
          }
        },
        "9d877ffeaa0044c3a1bbfd1c031172de": {
          "model_module": "@jupyter-widgets/controls",
          "model_name": "DescriptionStyleModel",
          "model_module_version": "1.5.0",
          "state": {
            "_model_module": "@jupyter-widgets/controls",
            "_model_module_version": "1.5.0",
            "_model_name": "DescriptionStyleModel",
            "_view_count": null,
            "_view_module": "@jupyter-widgets/base",
            "_view_module_version": "1.2.0",
            "_view_name": "StyleView",
            "description_width": ""
          }
        }
      }
    }
  },
  "cells": [
    {
      "cell_type": "markdown",
      "source": [
        "#Define CLIPTextDeprojector"
      ],
      "metadata": {
        "id": "GK_0UGcZbNQZ"
      }
    },
    {
      "cell_type": "code",
      "source": [
        "base_dir = \"/content/drive/MyDrive/sd/deprojector\""
      ],
      "metadata": {
        "id": "zvMJI-z0bq7p"
      },
      "execution_count": null,
      "outputs": []
    },
    {
      "cell_type": "code",
      "execution_count": null,
      "metadata": {
        "colab": {
          "base_uri": "https://localhost:8080/"
        },
        "id": "paaiq-kepGMp",
        "outputId": "fe4ddc29-6aaa-4af6-9a41-33571e617550"
      },
      "outputs": [
        {
          "output_type": "stream",
          "name": "stdout",
          "text": [
            "Looking in indexes: https://pypi.org/simple, https://us-python.pkg.dev/colab-wheels/public/simple/\n",
            "Collecting transformers\n",
            "  Downloading transformers-4.28.1-py3-none-any.whl (7.0 MB)\n",
            "\u001b[2K     \u001b[90m━━━━━━━━━━━━━━━━━━━━━━━━━━━━━━━━━━━━━━━━\u001b[0m \u001b[32m7.0/7.0 MB\u001b[0m \u001b[31m58.0 MB/s\u001b[0m eta \u001b[36m0:00:00\u001b[0m\n",
            "\u001b[?25hRequirement already satisfied: numpy>=1.17 in /usr/local/lib/python3.9/dist-packages (from transformers) (1.22.4)\n",
            "Collecting tokenizers!=0.11.3,<0.14,>=0.11.1\n",
            "  Downloading tokenizers-0.13.3-cp39-cp39-manylinux_2_17_x86_64.manylinux2014_x86_64.whl (7.8 MB)\n",
            "\u001b[2K     \u001b[90m━━━━━━━━━━━━━━━━━━━━━━━━━━━━━━━━━━━━━━━━\u001b[0m \u001b[32m7.8/7.8 MB\u001b[0m \u001b[31m36.4 MB/s\u001b[0m eta \u001b[36m0:00:00\u001b[0m\n",
            "\u001b[?25hRequirement already satisfied: tqdm>=4.27 in /usr/local/lib/python3.9/dist-packages (from transformers) (4.65.0)\n",
            "Requirement already satisfied: pyyaml>=5.1 in /usr/local/lib/python3.9/dist-packages (from transformers) (6.0)\n",
            "Requirement already satisfied: filelock in /usr/local/lib/python3.9/dist-packages (from transformers) (3.11.0)\n",
            "Requirement already satisfied: requests in /usr/local/lib/python3.9/dist-packages (from transformers) (2.27.1)\n",
            "Requirement already satisfied: regex!=2019.12.17 in /usr/local/lib/python3.9/dist-packages (from transformers) (2022.10.31)\n",
            "Requirement already satisfied: packaging>=20.0 in /usr/local/lib/python3.9/dist-packages (from transformers) (23.1)\n",
            "Collecting huggingface-hub<1.0,>=0.11.0\n",
            "  Downloading huggingface_hub-0.13.4-py3-none-any.whl (200 kB)\n",
            "\u001b[2K     \u001b[90m━━━━━━━━━━━━━━━━━━━━━━━━━━━━━━━━━━━━━━\u001b[0m \u001b[32m200.1/200.1 kB\u001b[0m \u001b[31m24.6 MB/s\u001b[0m eta \u001b[36m0:00:00\u001b[0m\n",
            "\u001b[?25hRequirement already satisfied: typing-extensions>=3.7.4.3 in /usr/local/lib/python3.9/dist-packages (from huggingface-hub<1.0,>=0.11.0->transformers) (4.5.0)\n",
            "Requirement already satisfied: idna<4,>=2.5 in /usr/local/lib/python3.9/dist-packages (from requests->transformers) (3.4)\n",
            "Requirement already satisfied: charset-normalizer~=2.0.0 in /usr/local/lib/python3.9/dist-packages (from requests->transformers) (2.0.12)\n",
            "Requirement already satisfied: urllib3<1.27,>=1.21.1 in /usr/local/lib/python3.9/dist-packages (from requests->transformers) (1.26.15)\n",
            "Requirement already satisfied: certifi>=2017.4.17 in /usr/local/lib/python3.9/dist-packages (from requests->transformers) (2022.12.7)\n",
            "Installing collected packages: tokenizers, huggingface-hub, transformers\n",
            "Successfully installed huggingface-hub-0.13.4 tokenizers-0.13.3 transformers-4.28.1\n"
          ]
        }
      ],
      "source": [
        "#@title Install library\n",
        "!pip install transformers"
      ]
    },
    {
      "cell_type": "code",
      "source": [
        "#@title CLIPTextDeprojector\n",
        "import torch\n",
        "import torch.nn as nn\n",
        "from IPython.display import display\n",
        "from transformers import CLIPPreTrainedModel, CLIPTextConfig\n",
        "from transformers.models.clip.modeling_clip import CLIPEncoderLayer\n",
        "\n",
        "class CLIPTextDeprojector(CLIPPreTrainedModel):\n",
        "    config_class = CLIPTextConfig\n",
        "    _no_split_modules = [\"CLIPEncoderLayer\"]\n",
        "\n",
        "    def __init__(self, config: CLIPTextConfig):\n",
        "        super().__init__(config)\n",
        "        self.config = config\n",
        "        embed_dim = config.hidden_size\n",
        "\n",
        "        self.to_use_projection = True\n",
        "        self.projection = nn.Linear(config.projection_dim, embed_dim, bias=False)\n",
        "        for param in self.projection.parameters():\n",
        "            param.requires_grad = False  # Fix the parameter of the projection layer.\n",
        "\n",
        "        self.register_buffer(\n",
        "            \"position_ids\", torch.arange(config.max_position_embeddings).expand((1, -1))\n",
        "        )\n",
        "        self.position_embedding = nn.Embedding(\n",
        "            config.max_position_embeddings, embed_dim\n",
        "        )\n",
        "        self.encoder_layer = CLIPEncoderLayer(config)\n",
        "        self.final_layer_norm = nn.LayerNorm(embed_dim, eps=config.layer_norm_eps)\n",
        "\n",
        "        self.register_buffer(\"sos_embed\", torch.zeros([embed_dim]))\n",
        "\n",
        "    def use_projection(self, to_use: bool = True):\n",
        "        self.to_use_projection = to_use\n",
        "\n",
        "    def dont_use_projection(self):\n",
        "        self.use_projection(False)\n",
        "\n",
        "    def forward(self, hidden_state):\n",
        "        bsz, seq_len, _ = hidden_state.size()\n",
        "        causal_attention_mask = self._build_causal_attention_mask(\n",
        "            bsz, seq_len, hidden_state.dtype\n",
        "        ).to(hidden_state.device)\n",
        "\n",
        "        attention_mask = None\n",
        "\n",
        "        if self.to_use_projection:\n",
        "            embeds = hidden_state[:, 0, :]\n",
        "            embeds = self.projection(embeds)\n",
        "            hidden_state = torch.cat(\n",
        "                [embeds.unsqueeze(1), hidden_state[:, 1:, :]], dim=1\n",
        "            )\n",
        "\n",
        "        position_embeddings = self.position_embedding(self.position_ids)\n",
        "        hidden_state = hidden_state + position_embeddings\n",
        "\n",
        "        layer_outputs = self.encoder_layer(\n",
        "            hidden_state,\n",
        "            attention_mask,\n",
        "            causal_attention_mask,\n",
        "        )\n",
        "        output = self.final_layer_norm(layer_outputs[0])\n",
        "        sos_embed = torch.cat([self.sos_embed.unsqueeze(0).unsqueeze(0)] * bsz, dim=0)\n",
        "        return torch.cat([sos_embed, output[:, 1:]], dim=1)\n",
        "\n",
        "    def _build_causal_attention_mask(self, bsz, seq_len, dtype):\n",
        "        # lazily create causal attention mask, with full attention between the vision tokens\n",
        "        # pytorch uses additive attention mask; fill with -inf\n",
        "        mask = torch.empty(bsz, seq_len, seq_len, dtype=dtype)\n",
        "        mask.fill_(torch.tensor(torch.finfo(dtype).min))\n",
        "        mask.triu_(1)  # zero out the lower diagonal\n",
        "        mask = mask.unsqueeze(1)  # expand mask\n",
        "        return mask\n",
        "\n",
        "    def Inference(self, embeds):\n",
        "        max_len = self.config.max_position_embeddings\n",
        "        embeds = embeds.unsqueeze(1)\n",
        "        result = torch.zeros([embeds.shape[0], 0, embeds.shape[-1]]).to(embeds.device)\n",
        "        while True:\n",
        "            result_len = len(result[0])\n",
        "            remaining_len = max_len - result_len - 1\n",
        "            input = torch.cat(\n",
        "                [\n",
        "                    embeds,\n",
        "                    result,\n",
        "                    torch.zeros([embeds.shape[0], remaining_len, embeds.shape[-1]]).to(\n",
        "                        embeds.device\n",
        "                    ),\n",
        "                ],\n",
        "                dim=1,\n",
        "            )\n",
        "            result = self(input)\n",
        "            if remaining_len == 0:\n",
        "                return result\n",
        "            result = result[:, : result_len + 1, :]\n"
      ],
      "metadata": {
        "id": "HKbFiQCVpntV"
      },
      "execution_count": null,
      "outputs": []
    },
    {
      "cell_type": "markdown",
      "source": [
        "#Create initial model weights from pretrained CLIP model"
      ],
      "metadata": {
        "id": "JMutJVfga1qZ"
      }
    },
    {
      "cell_type": "code",
      "source": [
        "#@title Download LAION-400M and extract texts\n",
        "!wget https://deploy.laion.ai/8f83b608504d46bb81708ec86e912220/dataset/part-00000-5b54c5d5-bbcf-484d-a2ce-0d6f73df1a36-c000.snappy.parquet \\\n",
        "  -P $base_dir/\n",
        "\n",
        "import pyarrow as pa\n",
        "import pyarrow.parquet\n",
        "import pyarrow.csv as csv\n",
        "table = pa.parquet.read_table(f'{base_dir}/part-00000-5b54c5d5-bbcf-484d-a2ce-0d6f73df1a36-c000.snappy.parquet', columns=['TEXT'])\n",
        "csv.write_csv(table, f\"{base_dir}/texts.csv\")"
      ],
      "metadata": {
        "id": "brH5utjga71f"
      },
      "execution_count": null,
      "outputs": []
    },
    {
      "cell_type": "code",
      "source": [
        "!mkdir $base_dir/init_model\n",
        "!wget https://huggingface.co/openai/clip-vit-large-patch14/resolve/main/pytorch_model.bin\n",
        "!wget https://huggingface.co/runwayml/stable-diffusion-v1-5/resolve/main/text_encoder/config.json \\\n",
        "  -P $base_dir/init_model/\n",
        "\n",
        "import torch\n",
        "model_data = torch.load(\"pytorch_model.bin\")\n",
        "\n",
        "new_model_data = {}\n",
        "new_model_data[\"position_embedding.weight\"]             = model_data[\"text_model.embeddings.position_embedding.weight\"]\n",
        "new_model_data[\"encoder_layer.self_attn.k_proj.weight\"] = model_data[\"text_model.encoder.layers.11.self_attn.k_proj.weight\"]\n",
        "new_model_data[\"encoder_layer.self_attn.k_proj.bias\"]   = model_data[\"text_model.encoder.layers.11.self_attn.k_proj.bias\"]\n",
        "new_model_data[\"encoder_layer.self_attn.v_proj.weight\"] = model_data[\"text_model.encoder.layers.11.self_attn.v_proj.weight\"]\n",
        "new_model_data[\"encoder_layer.self_attn.v_proj.bias\"]   = model_data[\"text_model.encoder.layers.11.self_attn.v_proj.bias\"]\n",
        "new_model_data[\"encoder_layer.self_attn.q_proj.weight\"] = model_data[\"text_model.encoder.layers.11.self_attn.q_proj.weight\"]\n",
        "new_model_data[\"encoder_layer.self_attn.q_proj.bias\"]   = model_data[\"text_model.encoder.layers.11.self_attn.q_proj.bias\"]\n",
        "new_model_data[\"encoder_layer.self_attn.out_proj.weight\"] = model_data[\"text_model.encoder.layers.11.self_attn.out_proj.weight\"]\n",
        "new_model_data[\"encoder_layer.self_attn.out_proj.bias\"] = model_data[\"text_model.encoder.layers.11.self_attn.out_proj.bias\"]\n",
        "new_model_data[\"encoder_layer.layer_norm1.weight\"]      = model_data[\"text_model.encoder.layers.11.layer_norm1.weight\"]\n",
        "new_model_data[\"encoder_layer.layer_norm1.bias\"]        = model_data[\"text_model.encoder.layers.11.layer_norm1.bias\"]\n",
        "new_model_data[\"encoder_layer.mlp.fc1.weight\"]          = model_data[\"text_model.encoder.layers.11.mlp.fc1.weight\"]\n",
        "new_model_data[\"encoder_layer.mlp.fc1.bias\"]            = model_data[\"text_model.encoder.layers.11.mlp.fc1.bias\"]\n",
        "new_model_data[\"encoder_layer.mlp.fc2.weight\"]          = model_data[\"text_model.encoder.layers.11.mlp.fc2.weight\"]\n",
        "new_model_data[\"encoder_layer.mlp.fc2.bias\"]            = model_data[\"text_model.encoder.layers.11.mlp.fc2.bias\"]\n",
        "new_model_data[\"encoder_layer.layer_norm2.weight\"]      = model_data[\"text_model.encoder.layers.11.layer_norm2.weight\"]\n",
        "new_model_data[\"encoder_layer.layer_norm2.bias\"]        = model_data[\"text_model.encoder.layers.11.layer_norm2.bias\"]\n",
        "new_model_data[\"final_layer_norm.weight\"]               = model_data[\"text_model.final_layer_norm.weight\"]\n",
        "new_model_data[\"final_layer_norm.bias\"]                 = model_data[\"text_model.final_layer_norm.bias\"]\n",
        "new_model_data[\"projection.weight\"] = torch.linalg.inv(model_data[\"text_projection.weight\"])\n",
        "torch.save(new_model_data, f\"{base_dir}/init_model/pytorch_model.bin\")"
      ],
      "metadata": {
        "id": "tZWl9PfScGdE"
      },
      "execution_count": null,
      "outputs": []
    },
    {
      "cell_type": "markdown",
      "source": [
        "#Train the model"
      ],
      "metadata": {
        "id": "H_lyTYLEa8NS"
      }
    },
    {
      "cell_type": "code",
      "source": [
        "#@title Set the previous part number.\n",
        "part = -1"
      ],
      "metadata": {
        "id": "ZFLZQD5GZj2b"
      },
      "execution_count": null,
      "outputs": []
    },
    {
      "cell_type": "code",
      "source": [
        "#@title Load CLIP models\n",
        "from transformers import CLIPTokenizer, CLIPTextModelWithProjection\n",
        "\n",
        "device = \"cuda\"\n",
        "\n",
        "if \"encoder\" not in globals():\n",
        "  tokenizer = CLIPTokenizer.from_pretrained(\n",
        "    \"openai/clip-vit-large-patch14\")\n",
        "  encoder = CLIPTextModelWithProjection.from_pretrained(\n",
        "    \"openai/clip-vit-large-patch14\").to(device)\n",
        "\n",
        "def tokenize(text):\n",
        "        return tokenizer(\n",
        "            text,\n",
        "            padding=\"max_length\",\n",
        "            max_length=77,\n",
        "            truncation=True,\n",
        "            return_tensors=\"pt\",  # PyTorch\n",
        "        )"
      ],
      "metadata": {
        "colab": {
          "base_uri": "https://localhost:8080/",
          "height": 281,
          "referenced_widgets": [
            "fa9f132134f443fa8ce13c931f414980",
            "d0b68cd015834c9f93a16dd4b1d6981f",
            "35f0bb5422c74cf58a94baa56c86444f",
            "608912cfc15f494aad981d6e7952e7e5",
            "7a5892e993f94789844b3647dd1c1cf2",
            "0523ebbeac9a448ea268bd0539d4623e",
            "eec9161182864f0fb48d624ab968cd72",
            "82fb35a878874e0b83a4bdf9f4985aa1",
            "36904a70a92648e393b01fcbec886ca2",
            "479ce4179517438d8925969a70413d6f",
            "8142306eb8734c189b4001a76a202b5e",
            "17f691bdae31410792e6c4959a57140a",
            "87806e5c118d41048aef9385c2a67490",
            "cc999c8116c8432897563449989cd6d8",
            "8fe7a26de9ca4e20897c4a78a14a265e",
            "18055a6ef5df456eb4a1bea0d79b5a53",
            "3f551ae3a40845c7982b2c7a5f084908",
            "04f91d4c5f164a90b4a0ea16451dfbca",
            "c239e73333f44bcfb2e65ec95d2e15e7",
            "8fab7129a4d840038f2c9ba2da4b5d79",
            "82e32fdd45a24cc3a5ecb9b55fe2efcc",
            "7fba99e24e404802ace1fe080900c4f7",
            "1d1de27801fc4d96baa3c3f7cedf4e44",
            "42fbda42af2d409abcbc65f0f90a5d4a",
            "a985b92576cf4bb2a432638ce3ed557f",
            "5699560994464c97a7acc6d9237af5aa",
            "aefa99216fa749868a102e6bf67cb2a2",
            "3ffd5af3556e4e51985083e93f05e29e",
            "f5da403980634838ac9d19faaf97adde",
            "98c95226185b464e96809971e2824272",
            "87f90d0abd2f46e2b1515d56caa44614",
            "f59aade62b90451db5c6dcb5a5a64571",
            "31804f5c16354352a5ee1be9b2c05656",
            "0b6fffae13274168996527bc6f28b40a",
            "04ef9cfcc64840328c1674f8710e52b5",
            "52a9f650ba444cb0ac26e84f4cd59d80",
            "ed62a485328b4ab79e6d910ffcc87c68",
            "a653763edf134a2698b706c04d99c3b0",
            "f5f82af6142a412b95689694f210f2e9",
            "4f0b1fc53b5d439f94fff7c9eeeca60b",
            "dad4a6e30dfa461895ec9727ab4680f9",
            "32b87845599e4186b09a44141c643c14",
            "0d0ffc4bde7841beabb76dbdb05ea28a",
            "c2fef103e47f4ad79f6eada9b193fbe5",
            "52a0512313d1474695a82b6e7cefe469",
            "dcdb8a7371cc4c2984cfbf81dd5244d4",
            "9cce02b46bec4d0da21919ad64145cbd",
            "14e275f9b3694e44ae75b81c8d103acc",
            "f15c0eb92bc74540a8074d55107ce93b",
            "b9c85a050c2b46aea8296a4c53d70c17",
            "d6b66573bba14fbd88a71e031b65d9b5",
            "343583e5d9114b399ac2371ab34ffc36",
            "ba0632c86b644978aff3a4cc53664a79",
            "12ba206833fc4675a62d8dfdca95a25f",
            "57a53f3bcdf54bc685d68f293f22c7af",
            "503272708b554903afe0edf4019fa1ac",
            "653e43c5cd2649cfb89123bf90d5885c",
            "2ddc39e742444ceabceb717b56ec32f0",
            "7a1600084b774c37b161592c38f83fbe",
            "13ee3db91c714e4ba49e347510538455",
            "5348c67ff92248ba9b1486977b82a609",
            "0008b59cc1c045d4bef407538612fc8c",
            "a24794a2d9c24ad5856b6d997bb393f6",
            "5a4ea0490bae4e6aa1158533acf7eabd",
            "61148ef03c964080b8f9ce36fa2a5ed5",
            "9d877ffeaa0044c3a1bbfd1c031172de"
          ]
        },
        "id": "8HnqcIm_rpml",
        "outputId": "6c306215-48e5-426a-bda7-75c815ec811a"
      },
      "execution_count": null,
      "outputs": [
        {
          "output_type": "display_data",
          "data": {
            "text/plain": [
              "Downloading (…)olve/main/vocab.json:   0%|          | 0.00/961k [00:00<?, ?B/s]"
            ],
            "application/vnd.jupyter.widget-view+json": {
              "version_major": 2,
              "version_minor": 0,
              "model_id": "fa9f132134f443fa8ce13c931f414980"
            }
          },
          "metadata": {}
        },
        {
          "output_type": "display_data",
          "data": {
            "text/plain": [
              "Downloading (…)olve/main/merges.txt:   0%|          | 0.00/525k [00:00<?, ?B/s]"
            ],
            "application/vnd.jupyter.widget-view+json": {
              "version_major": 2,
              "version_minor": 0,
              "model_id": "17f691bdae31410792e6c4959a57140a"
            }
          },
          "metadata": {}
        },
        {
          "output_type": "display_data",
          "data": {
            "text/plain": [
              "Downloading (…)cial_tokens_map.json:   0%|          | 0.00/389 [00:00<?, ?B/s]"
            ],
            "application/vnd.jupyter.widget-view+json": {
              "version_major": 2,
              "version_minor": 0,
              "model_id": "1d1de27801fc4d96baa3c3f7cedf4e44"
            }
          },
          "metadata": {}
        },
        {
          "output_type": "display_data",
          "data": {
            "text/plain": [
              "Downloading (…)okenizer_config.json:   0%|          | 0.00/905 [00:00<?, ?B/s]"
            ],
            "application/vnd.jupyter.widget-view+json": {
              "version_major": 2,
              "version_minor": 0,
              "model_id": "0b6fffae13274168996527bc6f28b40a"
            }
          },
          "metadata": {}
        },
        {
          "output_type": "display_data",
          "data": {
            "text/plain": [
              "Downloading (…)lve/main/config.json:   0%|          | 0.00/4.52k [00:00<?, ?B/s]"
            ],
            "application/vnd.jupyter.widget-view+json": {
              "version_major": 2,
              "version_minor": 0,
              "model_id": "52a0512313d1474695a82b6e7cefe469"
            }
          },
          "metadata": {}
        },
        {
          "output_type": "display_data",
          "data": {
            "text/plain": [
              "Downloading pytorch_model.bin:   0%|          | 0.00/1.71G [00:00<?, ?B/s]"
            ],
            "application/vnd.jupyter.widget-view+json": {
              "version_major": 2,
              "version_minor": 0,
              "model_id": "503272708b554903afe0edf4019fa1ac"
            }
          },
          "metadata": {}
        },
        {
          "output_type": "stream",
          "name": "stderr",
          "text": [
            "Some weights of the model checkpoint at openai/clip-vit-large-patch14 were not used when initializing CLIPTextModelWithProjection: ['vision_model.encoder.layers.3.self_attn.out_proj.bias', ... 'vision_model.encoder.layers.3.layer_norm1.bias']\n",
            "- This IS expected if you are initializing CLIPTextModelWithProjection from the checkpoint of a model trained on another task or with another architecture (e.g. initializing a BertForSequenceClassification model from a BertForPreTraining model).\n",
            "- This IS NOT expected if you are initializing CLIPTextModelWithProjection from the checkpoint of a model that you expect to be exactly identical (initializing a BertForSequenceClassification model from a BertForSequenceClassification model).\n"
          ]
        }
      ]
    },
    {
      "cell_type": "code",
      "source": [
        "#@title Trainer\n",
        "from torch.utils.data import DataLoader\n",
        "from torch.utils.data.sampler import RandomSampler\n",
        "\n",
        "class DataSet:\n",
        "    def __init__(self, data, start, end):\n",
        "        self.embeds_ls = data[\"embeds\"][start:end].to(device)\n",
        "        self.last_state_ls = data[\"last_state\"][start:end, :].to(device)\n",
        "\n",
        "    def __len__(self):\n",
        "        return len(self.embeds_ls)\n",
        "\n",
        "    def __getitem__(self, index):\n",
        "        embeds = self.embeds_ls[index]\n",
        "        last_state = self.last_state_ls[index]\n",
        "        return last_state, torch.cat([embeds.unsqueeze(0), last_state], dim=0)[:-1, :]\n",
        "\n",
        "class Trainer:\n",
        "  def __init__(self, data, start, end):\n",
        "    self.ds = DataSet(data, start, end - 100)\n",
        "    self.test_ds = DataSet(data, end - 100, end)\n",
        "\n",
        "    # learning_rate = 0.001\n",
        "    self.criterion = nn.MSELoss()\n",
        "    self.optimizer = torch.optim.Adam(model.parameters())\n",
        "\n",
        "  def training(self):\n",
        "    global epoch\n",
        "    epoch += 1\n",
        "    print(f\"Epoch: {epoch}\")\n",
        "\n",
        "    #sampler = RandomSampler(ds, replacement=True, num_samples=100*10)\n",
        "    dl = DataLoader(self.ds, batch_size=100, shuffle=True) # sampler=sampler\n",
        "    for i, (target, input) in enumerate(dl):\n",
        "      self.optimizer.zero_grad()\n",
        "      pred = model(input)\n",
        "      loss = self.criterion(pred, target)\n",
        "      loss.backward()\n",
        "      self.optimizer.step()\n",
        "      if (i+1)%10 == 0:\n",
        "        print(f\"Batch {i+1}, loss {loss.item():.4f}, target: {target.shape}, input: {input.shape}\")\n",
        "\n",
        "  def test(self):\n",
        "    with torch.no_grad():\n",
        "      dl = DataLoader(self.test_ds, batch_size=100)\n",
        "      for target, input in dl:\n",
        "        pred = model(input)\n",
        "        loss = self.criterion(pred, target)\n",
        "        print(f\"Test, loss {loss.item():.4f}, target: {target.shape}, input: {input.shape}\")\n",
        "        return loss.item()\n",
        "\n",
        "  def test_inference(self):\n",
        "    with torch.no_grad():\n",
        "      dl = DataLoader(self.test_ds, batch_size=100)\n",
        "      for target, input in dl:\n",
        "        pred = model.Inference(input[:, :1, :].squeeze(1))\n",
        "        loss = self.criterion(pred, target)\n",
        "        print(f\"Inference test, loss {loss.item():.4f}, target: {target.shape}, input: {input.shape}\")\n",
        "        return loss.item()"
      ],
      "metadata": {
        "id": "cw_LBHerqg6Q"
      },
      "execution_count": null,
      "outputs": []
    },
    {
      "cell_type": "markdown",
      "source": [
        "##Repeat below"
      ],
      "metadata": {
        "id": "41UDA7NDgZr-"
      }
    },
    {
      "cell_type": "code",
      "source": [
        "#@title Training Data Generation\n",
        "\n",
        "part += 1\n",
        "print(f\"Start part {part}\")\n",
        "\n",
        "import csv\n",
        "import torch\n",
        "\n",
        "if \"data\" in globals():\n",
        "  for k, v in data.items():\n",
        "    v.to(\"cpu\")\n",
        "  del data\n",
        "  torch.cuda.empty_cache()\n",
        "\n",
        "num_data = 10000  # 500000\n",
        "embed_ls = []\n",
        "last_state_ls = []\n",
        "with open(f'{base_dir}/texts.csv', newline='') as f:\n",
        "  with torch.no_grad():\n",
        "    r = csv.reader(f)\n",
        "    for i, row in enumerate(r):\n",
        "      if i == 0:\n",
        "        print(f\"{i:08n} => {row}\")\n",
        "        continue\n",
        "      orig_i = i\n",
        "      i = i - (part * num_data)\n",
        "      if i <= 0: continue\n",
        "      if i > num_data: break\n",
        "      if len(row) == 0: continue\n",
        "      try:\n",
        "        tokens = tokenize(row[0]).input_ids.to(\"cuda\")\n",
        "        encoded = encoder(tokens)\n",
        "        embed_ls.append(encoded.text_embeds)\n",
        "        last_state_ls.append(encoded.last_hidden_state)\n",
        "        if i % 1000 == 0:\n",
        "          print(f\"{orig_i:08n} => {row}\")\n",
        "          #print(tokens.shape)\n",
        "          #print(encoded.text_embeds.shape)\n",
        "          #print(encoded.last_hidden_state.shape)\n",
        "      except Exception:\n",
        "        print(f\"error at: {orig_i:08n} => {row}\")\n",
        "        print(tokens.shape)\n",
        "        raise\n",
        "\n",
        "data = {\n",
        "    \"embeds\": torch.cat(embed_ls, dim=0),\n",
        "    \"last_state\": torch.cat(last_state_ls, dim=0),\n",
        "}\n",
        "#torch.save(data, f\"{base_dir}/dataset_{part:05n}.pt\")"
      ],
      "metadata": {
        "colab": {
          "base_uri": "https://localhost:8080/"
        },
        "id": "RUGGwzwPpYUu",
        "outputId": "53ccbed8-e94c-4807-845c-43b635b2b85b"
      },
      "execution_count": null,
      "outputs": [
        {
          "output_type": "stream",
          "name": "stdout",
          "text": [
            "Start part 9\n",
            "00000000 => ['TEXT']\n",
            "00091000 => ['bankruptcy order cartoon']\n",
            "00092000 => ['Australia-NSW-Comboyne Plateau and Beach Ride']\n",
            "00093000 => ['Tormenter 4X4 Ocean Fade Board Shorts']\n",
            "00094000 => ['I Love FLAGSTAFF Arizona Coffee Mug']\n",
            "00095000 => ['Derrick Rose #1 - MVP - Chicago Bulls (cshimala) Tags: chicago basketball court 1 crowd bulls playoffs fans adidas nba aroundtown basketballcourt unitedcenter game1 mvp drose chicagobulls pacers chicagoist nbaplayoffs indianapacers dabulls derrickrose']\n",
            "00096000 => ['10 fun facts about coral reefs']\n",
            "00097000 => ['miriam keloy in Hadrian Gala After-Party 2014']\n",
            "00098000 => ['S5 Julien Double Wall Sconce']\n",
            "00099000 => ['Alice In Wonerland Rare White Rabbit And Cheshire Cat Sugar And Creamer Set']\n",
            "00100000 => ['Monastery of Ostrog in Montenegro - Stock Photo']\n"
          ]
        }
      ]
    },
    {
      "cell_type": "code",
      "source": [
        "#@title Load Base Model and reset epoch\n",
        "if \"model\" in globals():\n",
        "  model.to(\"cpu\")\n",
        "  del model\n",
        "\n",
        "if part == 0:\n",
        "  model_path = f\"{base_dir}/init_model/\"\n",
        "else:\n",
        "  model_path = f\"{base_dir}/model_part_{part - 1:02n}/\"\n",
        "print(f\"part {part} based on {model_path}\")\n",
        "model = CLIPTextDeprojector.from_pretrained(model_path)\n",
        "model.to(device)\n",
        "\n",
        "if part == 0:\n",
        "  print(f\"Set SOS state\")\n",
        "  model.sos_embed = data[\"last_state\"][0, 0].squeeze().detach().clone()\n",
        "  print(model.sos_embed.shape)\n",
        "\n",
        "epoch = 0"
      ],
      "metadata": {
        "colab": {
          "base_uri": "https://localhost:8080/"
        },
        "id": "IA8mcHawp5zC",
        "outputId": "6ac4bae5-0b53-4097-fd72-af7b78eefa11"
      },
      "execution_count": null,
      "outputs": [
        {
          "output_type": "stream",
          "name": "stdout",
          "text": [
            "part 9 based on /content/drive/MyDrive/sd/deprojector/model_part_08/\n"
          ]
        }
      ]
    },
    {
      "cell_type": "code",
      "source": [
        "#@title Initialize Training\n",
        "test_results = []\n",
        "inference_test_results = []\n",
        "trainer = Trainer(data, 0, 10000)\n",
        "test_results.append(trainer.test())\n",
        "display(test_results)\n",
        "inference_test_results.append(trainer.test_inference())\n",
        "display(inference_test_results)"
      ],
      "metadata": {
        "colab": {
          "base_uri": "https://localhost:8080/",
          "height": 86
        },
        "id": "0aCpkyfkrEda",
        "outputId": "f0567535-e6e5-4116-af80-68b4ca06a871"
      },
      "execution_count": null,
      "outputs": [
        {
          "output_type": "stream",
          "name": "stdout",
          "text": [
            "Test, loss 0.1147, target: torch.Size([100, 77, 768]), input: torch.Size([100, 77, 768])\n"
          ]
        },
        {
          "output_type": "display_data",
          "data": {
            "text/plain": [
              "[0.1146882027387619]"
            ]
          },
          "metadata": {}
        },
        {
          "output_type": "stream",
          "name": "stdout",
          "text": [
            "Inference test, loss 0.8182, target: torch.Size([100, 77, 768]), input: torch.Size([100, 77, 768])\n"
          ]
        },
        {
          "output_type": "display_data",
          "data": {
            "text/plain": [
              "[0.818166971206665]"
            ]
          },
          "metadata": {}
        }
      ]
    },
    {
      "cell_type": "code",
      "source": [
        "print(f\"part {part}\")\n",
        "trainer.training()\n",
        "test_results.append(trainer.test())\n",
        "display(test_results[-10:])\n",
        "inference_test_results.append(trainer.test_inference())\n",
        "display(inference_test_results[-10:])"
      ],
      "metadata": {
        "colab": {
          "base_uri": "https://localhost:8080/",
          "height": 329
        },
        "id": "wrd5lAjntOpJ",
        "outputId": "1e4e8320-dfd1-4dec-fafb-7fb394f21346"
      },
      "execution_count": null,
      "outputs": [
        {
          "output_type": "stream",
          "name": "stdout",
          "text": [
            "part 9\n",
            "Epoch: 3\n",
            "Batch 10, loss 0.0968, target: torch.Size([100, 77, 768]), input: torch.Size([100, 77, 768])\n",
            "Batch 20, loss 0.0986, target: torch.Size([100, 77, 768]), input: torch.Size([100, 77, 768])\n",
            "Batch 30, loss 0.1103, target: torch.Size([100, 77, 768]), input: torch.Size([100, 77, 768])\n",
            "Batch 40, loss 0.1152, target: torch.Size([100, 77, 768]), input: torch.Size([100, 77, 768])\n",
            "Batch 50, loss 0.1012, target: torch.Size([100, 77, 768]), input: torch.Size([100, 77, 768])\n",
            "Batch 60, loss 0.1028, target: torch.Size([100, 77, 768]), input: torch.Size([100, 77, 768])\n",
            "Batch 70, loss 0.0918, target: torch.Size([100, 77, 768]), input: torch.Size([100, 77, 768])\n",
            "Batch 80, loss 0.1122, target: torch.Size([100, 77, 768]), input: torch.Size([100, 77, 768])\n",
            "Batch 90, loss 0.0921, target: torch.Size([100, 77, 768]), input: torch.Size([100, 77, 768])\n",
            "Test, loss 0.1151, target: torch.Size([100, 77, 768]), input: torch.Size([100, 77, 768])\n"
          ]
        },
        {
          "output_type": "display_data",
          "data": {
            "text/plain": [
              "[0.1146882027387619,\n",
              " 0.1144610121846199,\n",
              " 0.114711232483387,\n",
              " 0.11509108543395996]"
            ]
          },
          "metadata": {}
        },
        {
          "output_type": "stream",
          "name": "stdout",
          "text": [
            "Inference test, loss 0.8553, target: torch.Size([100, 77, 768]), input: torch.Size([100, 77, 768])\n"
          ]
        },
        {
          "output_type": "display_data",
          "data": {
            "text/plain": [
              "[0.818166971206665, 0.8375610709190369, 0.8436762094497681, 0.8552973866462708]"
            ]
          },
          "metadata": {}
        }
      ]
    },
    {
      "cell_type": "code",
      "source": [
        "model_to_save = f\"model_part_{part:02n}\"\n",
        "model.save_pretrained(f\"{base_dir}/{model_to_save}/\")\n",
        "print(model_to_save)\n",
        "!ls -lh $base_dir/$model_to_save/\n",
        "summary = {\n",
        "    \"model\": model_to_save,\n",
        "    \"part\": part,\n",
        "    \"epoch\": epoch,\n",
        "    \"test_loss\": test_results[-1],\n",
        "    \"inference_test_loss\": inference_test_results[-1]\n",
        "}\n",
        "torch.save(summary, f\"{base_dir}/{model_to_save}/epoch.pt\")\n",
        "ep = torch.load(f\"{base_dir}/{model_to_save}/epoch.pt\")\n",
        "ep"
      ],
      "metadata": {
        "colab": {
          "base_uri": "https://localhost:8080/"
        },
        "id": "y5RSDWxDtUSa",
        "outputId": "522fe0cf-a238-4f45-da7a-7a698f822718"
      },
      "execution_count": null,
      "outputs": [
        {
          "output_type": "stream",
          "name": "stdout",
          "text": [
            "model_part_09\n",
            "total 30M\n",
            "-rw------- 1 root root 641 Apr 22 11:06 config.json\n",
            "-rw------- 1 root root 30M Apr 22 11:06 pytorch_model.bin\n"
          ]
        },
        {
          "output_type": "execute_result",
          "data": {
            "text/plain": [
              "{'model': 'model_part_09',\n",
              " 'part': 9,\n",
              " 'epoch': 1,\n",
              " 'test_loss': 0.1144610121846199,\n",
              " 'inference_test_loss': 0.8375610709190369}"
            ]
          },
          "metadata": {},
          "execution_count": 114
        }
      ]
    },
    {
      "cell_type": "code",
      "source": [
        "for model_name in [f\"model_part_{p:02n}\" for p in range(part + 1)]:\n",
        "  ep = torch.load(f\"{base_dir}/{model_name}/epoch.pt\")\n",
        "  print(model_name)\n",
        "  display(ep)"
      ],
      "metadata": {
        "colab": {
          "base_uri": "https://localhost:8080/",
          "height": 1000
        },
        "id": "hrUWA7VRtk_o",
        "outputId": "4ce21f7c-b095-4eca-d69f-f8f1cd7d1ee3"
      },
      "execution_count": null,
      "outputs": [
        {
          "output_type": "stream",
          "name": "stdout",
          "text": [
            "model_part_00\n"
          ]
        },
        {
          "output_type": "display_data",
          "data": {
            "text/plain": [
              "{'model': 'model_part_00',\n",
              " 'part': 0,\n",
              " 'epoch': 7,\n",
              " 'test_loss': 0.1280847191810608,\n",
              " 'inference_test_loss': 0.8230238556861877}"
            ]
          },
          "metadata": {}
        },
        {
          "output_type": "stream",
          "name": "stdout",
          "text": [
            "model_part_01\n"
          ]
        },
        {
          "output_type": "display_data",
          "data": {
            "text/plain": [
              "{'model': 'model_part_01',\n",
              " 'part': 1,\n",
              " 'epoch': 4,\n",
              " 'test_loss': 0.11513874679803848,\n",
              " 'inference_test_loss': 0.8857951760292053}"
            ]
          },
          "metadata": {}
        },
        {
          "output_type": "stream",
          "name": "stdout",
          "text": [
            "model_part_02\n"
          ]
        },
        {
          "output_type": "display_data",
          "data": {
            "text/plain": [
              "{'model': 'model_part_02',\n",
              " 'part': 2,\n",
              " 'epoch': 3,\n",
              " 'test_loss': 0.1050417423248291,\n",
              " 'inference_test_loss': 0.8039863109588623}"
            ]
          },
          "metadata": {}
        },
        {
          "output_type": "stream",
          "name": "stdout",
          "text": [
            "model_part_03\n"
          ]
        },
        {
          "output_type": "display_data",
          "data": {
            "text/plain": [
              "{'model': 'model_part_03',\n",
              " 'part': 3,\n",
              " 'epoch': 2,\n",
              " 'test_loss': 0.10449869185686111,\n",
              " 'inference_test_loss': 0.8036409020423889}"
            ]
          },
          "metadata": {}
        },
        {
          "output_type": "stream",
          "name": "stdout",
          "text": [
            "model_part_04\n"
          ]
        },
        {
          "output_type": "display_data",
          "data": {
            "text/plain": [
              "{'model': 'model_part_04',\n",
              " 'part': 4,\n",
              " 'epoch': 2,\n",
              " 'test_loss': 0.11442147940397263,\n",
              " 'inference_test_loss': 0.8488426208496094}"
            ]
          },
          "metadata": {}
        },
        {
          "output_type": "stream",
          "name": "stdout",
          "text": [
            "model_part_05\n"
          ]
        },
        {
          "output_type": "display_data",
          "data": {
            "text/plain": [
              "{'model': 'model_part_05',\n",
              " 'part': 5,\n",
              " 'epoch': 2,\n",
              " 'test_loss': 0.11371234804391861,\n",
              " 'inference_test_loss': 0.9070765376091003}"
            ]
          },
          "metadata": {}
        },
        {
          "output_type": "stream",
          "name": "stdout",
          "text": [
            "model_part_06\n"
          ]
        },
        {
          "output_type": "display_data",
          "data": {
            "text/plain": [
              "{'model': 'model_part_06',\n",
              " 'part': 6,\n",
              " 'epoch': 3,\n",
              " 'test_loss': 0.10346761345863342,\n",
              " 'inference_test_loss': 0.7673318982124329}"
            ]
          },
          "metadata": {}
        },
        {
          "output_type": "stream",
          "name": "stdout",
          "text": [
            "model_part_07\n"
          ]
        },
        {
          "output_type": "display_data",
          "data": {
            "text/plain": [
              "{'model': 'model_part_07',\n",
              " 'part': 7,\n",
              " 'epoch': 2,\n",
              " 'test_loss': 0.10422901809215546,\n",
              " 'inference_test_loss': 0.829045295715332}"
            ]
          },
          "metadata": {}
        },
        {
          "output_type": "stream",
          "name": "stdout",
          "text": [
            "model_part_08\n"
          ]
        },
        {
          "output_type": "display_data",
          "data": {
            "text/plain": [
              "{'model': 'model_part_08',\n",
              " 'part': 8,\n",
              " 'epoch': 2,\n",
              " 'test_loss': 0.11055289208889008,\n",
              " 'inference_test_loss': 0.7834908962249756}"
            ]
          },
          "metadata": {}
        },
        {
          "output_type": "stream",
          "name": "stdout",
          "text": [
            "model_part_09\n"
          ]
        },
        {
          "output_type": "display_data",
          "data": {
            "text/plain": [
              "{'model': 'model_part_09',\n",
              " 'part': 9,\n",
              " 'epoch': 1,\n",
              " 'test_loss': 0.1144610121846199,\n",
              " 'inference_test_loss': 0.8375610709190369}"
            ]
          },
          "metadata": {}
        }
      ]
    }
  ]
}